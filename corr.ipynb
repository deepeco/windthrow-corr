{
 "cells": [
  {
   "cell_type": "code",
   "execution_count": 212,
   "metadata": {},
   "outputs": [],
   "source": [
    "from joblib import dump, load\n",
    "import pandas as pd\n",
    "import numpy as np"
   ]
  },
  {
   "cell_type": "code",
   "execution_count": 213,
   "metadata": {},
   "outputs": [],
   "source": [
    "\n",
    "@np.vectorize\n",
    "def estimate_bin(m, n, iterations=100, alpha=0.05):\n",
    "    try:\n",
    "        prob_ests = np.random.binomial(n, m / n, iterations) / n\n",
    "        low = np.quantile(prob_ests, alpha/2)\n",
    "        up = np.quantile(prob_ests, 1-alpha/2)\n",
    "    except:\n",
    "        return ''\n",
    "    #return f'({np.round(low,3)}, {np.round(up,4)})'\n",
    "    return f'{np.round(m/n, 3)}'\n"
   ]
  },
  {
   "cell_type": "code",
   "execution_count": 214,
   "metadata": {},
   "outputs": [],
   "source": [
    "feature_intervals = {\n",
    "    'aspect': np.arange(0, 370, 10),\n",
    "    'slope' :  np.arange(0, 70, 2),\n",
    "    #'forest-height': np.arange(0, 60, 1),\n",
    "    'elevation': np.append(np.arange(0, 650, 10),2000),\n",
    "    'tree_cover': np.arange(20, 105, 2),\n",
    "    'curvature': np.arange(-20, 20, 0.5),\n",
    "    # 'curvature-plan': np.arange(-13, 13, 0.5),\n",
    "    # 'curvature-prof': np.arange(-13, 13, 0.5),\n",
    "    'patches': np.array([0, 10, 100, 1000, 10000, 100000, 1000000, 1500000, 2000000]),\n",
    "    #'patches': np.array([0] + [np.exp(j) for j in range(1, 16)]),\n",
    "    'morphology': np.arange(0, 12, 1),\n",
    "    'vegetation': []\n",
    "}\n"
   ]
  },
  {
   "cell_type": "code",
   "execution_count": 215,
   "metadata": {},
   "outputs": [],
   "source": [
    "features = load('output_veg_4M.dat')"
   ]
  },
  {
   "cell_type": "code",
   "execution_count": 216,
   "metadata": {},
   "outputs": [],
   "source": [
    "features=pd.DataFrame(features)"
   ]
  },
  {
   "cell_type": "code",
   "execution_count": 217,
   "metadata": {},
   "outputs": [
    {
     "name": "stdout",
     "output_type": "stream",
     "text": [
      "<class 'pandas.core.frame.DataFrame'>\n",
      "RangeIndex: 4000000 entries, 0 to 3999999\n",
      "Data columns (total 11 columns):\n",
      " #   Column      Dtype  \n",
      "---  ------      -----  \n",
      " 0   aspect      float64\n",
      " 1   curvature   float64\n",
      " 2   elevation   float64\n",
      " 3   morphology  float64\n",
      " 4   slope       float64\n",
      " 5   tree_cover  float64\n",
      " 6   vegetation  float64\n",
      " 7   lats        float64\n",
      " 8   lons        float64\n",
      " 9   patches     float64\n",
      " 10  wfall       bool   \n",
      "dtypes: bool(1), float64(10)\n",
      "memory usage: 309.0 MB\n"
     ]
    }
   ],
   "source": [
    "features.info()"
   ]
  },
  {
   "cell_type": "code",
   "execution_count": 218,
   "metadata": {},
   "outputs": [
    {
     "name": "stderr",
     "output_type": "stream",
     "text": [
      "C:\\Users\\ASUS\\anaconda3\\envs\\sci\\lib\\site-packages\\pandas\\core\\computation\\expressions.py:201: UserWarning: evaluating in Python space because the '*' operator is not supported by numexpr for the bool dtype, use '&' instead\n",
      "  f\"evaluating in Python space because the {repr(op_str)} \"\n"
     ]
    },
    {
     "data": {
      "text/plain": [
       "2851"
      ]
     },
     "execution_count": 218,
     "metadata": {},
     "output_type": "execute_result"
    }
   ],
   "source": [
    "((features.vegetation == 2) * features.wfall).sum()"
   ]
  },
  {
   "cell_type": "code",
   "execution_count": 219,
   "metadata": {},
   "outputs": [],
   "source": [
    "features.dropna(axis=0, inplace=True)"
   ]
  },
  {
   "cell_type": "code",
   "execution_count": 220,
   "metadata": {},
   "outputs": [],
   "source": [
    "features = features[(features.elevation != 32767) & (features['aspect'] != -1) & (~np.isnan(features['morphology'])) & (features['tree_cover'] > 20) & (features['tree_cover'] <= 100)]"
   ]
  },
  {
   "cell_type": "code",
   "execution_count": 221,
   "metadata": {},
   "outputs": [],
   "source": [
    "total = sum(v for k, v in Counter(features.vegetation).items() if k != 2)\n",
    "probs = [v / total for k, v in Counter(features.vegetation).items() if k!=2]\n",
    "vals = [k for k, v in Counter(features.vegetation).items() if k!=2]\n",
    "features.loc[features.vegetation == 2, 'vegetation'] = np.random.choice(vals, size=((features.vegetation == 2).sum(),), p=probs)"
   ]
  },
  {
   "cell_type": "code",
   "execution_count": 222,
   "metadata": {},
   "outputs": [
    {
     "data": {
      "text/plain": [
       "(511053, 11)"
      ]
     },
     "execution_count": 222,
     "metadata": {},
     "output_type": "execute_result"
    }
   ],
   "source": [
    "features.shape"
   ]
  },
  {
   "cell_type": "code",
   "execution_count": 223,
   "metadata": {},
   "outputs": [
    {
     "data": {
      "text/plain": [
       "(9091, 11)"
      ]
     },
     "execution_count": 223,
     "metadata": {},
     "output_type": "execute_result"
    }
   ],
   "source": [
    "features[features.wfall].shape"
   ]
  },
  {
   "cell_type": "code",
   "execution_count": 224,
   "metadata": {},
   "outputs": [],
   "source": [
    "for name in feature_intervals:\n",
    "    if name != 'vegetation':\n",
    "        gr_name = np.digitize(features[name], bins=feature_intervals[name])\n",
    "        features['gr_'+name] = list(map(lambda i: f\"{feature_intervals[name][i-1]}<={name}<{feature_intervals[name][i]}\",gr_name))\n",
    "    else:\n",
    "        features['gr_'+name] = features[name]\n",
    "    \n"
   ]
  },
  {
   "cell_type": "code",
   "execution_count": 225,
   "metadata": {},
   "outputs": [
    {
     "data": {
      "text/html": [
       "<div>\n",
       "<style scoped>\n",
       "    .dataframe tbody tr th:only-of-type {\n",
       "        vertical-align: middle;\n",
       "    }\n",
       "\n",
       "    .dataframe tbody tr th {\n",
       "        vertical-align: top;\n",
       "    }\n",
       "\n",
       "    .dataframe thead th {\n",
       "        text-align: right;\n",
       "    }\n",
       "</style>\n",
       "<table border=\"1\" class=\"dataframe\">\n",
       "  <thead>\n",
       "    <tr style=\"text-align: right;\">\n",
       "      <th></th>\n",
       "      <th>aspect</th>\n",
       "      <th>curvature</th>\n",
       "      <th>elevation</th>\n",
       "      <th>morphology</th>\n",
       "      <th>slope</th>\n",
       "      <th>tree_cover</th>\n",
       "      <th>vegetation</th>\n",
       "      <th>lats</th>\n",
       "      <th>lons</th>\n",
       "      <th>patches</th>\n",
       "      <th>wfall</th>\n",
       "      <th>gr_aspect</th>\n",
       "      <th>gr_slope</th>\n",
       "      <th>gr_elevation</th>\n",
       "      <th>gr_tree_cover</th>\n",
       "      <th>gr_curvature</th>\n",
       "      <th>gr_patches</th>\n",
       "      <th>gr_morphology</th>\n",
       "      <th>gr_vegetation</th>\n",
       "    </tr>\n",
       "  </thead>\n",
       "  <tbody>\n",
       "    <tr>\n",
       "      <th>15</th>\n",
       "      <td>329.036255</td>\n",
       "      <td>-0.3888</td>\n",
       "      <td>404.0</td>\n",
       "      <td>6.0</td>\n",
       "      <td>6.740799</td>\n",
       "      <td>90.0</td>\n",
       "      <td>6.0</td>\n",
       "      <td>4.916115e+06</td>\n",
       "      <td>438098.928341</td>\n",
       "      <td>0.0</td>\n",
       "      <td>False</td>\n",
       "      <td>320&lt;=aspect&lt;330</td>\n",
       "      <td>6&lt;=slope&lt;8</td>\n",
       "      <td>400&lt;=elevation&lt;410</td>\n",
       "      <td>90&lt;=tree_cover&lt;92</td>\n",
       "      <td>-0.5&lt;=curvature&lt;0.0</td>\n",
       "      <td>0&lt;=patches&lt;10</td>\n",
       "      <td>6&lt;=morphology&lt;7</td>\n",
       "      <td>6.0</td>\n",
       "    </tr>\n",
       "    <tr>\n",
       "      <th>16</th>\n",
       "      <td>205.346176</td>\n",
       "      <td>-0.3888</td>\n",
       "      <td>234.0</td>\n",
       "      <td>7.0</td>\n",
       "      <td>4.871637</td>\n",
       "      <td>85.0</td>\n",
       "      <td>7.0</td>\n",
       "      <td>4.907124e+06</td>\n",
       "      <td>437201.617039</td>\n",
       "      <td>0.0</td>\n",
       "      <td>False</td>\n",
       "      <td>200&lt;=aspect&lt;210</td>\n",
       "      <td>4&lt;=slope&lt;6</td>\n",
       "      <td>230&lt;=elevation&lt;240</td>\n",
       "      <td>84&lt;=tree_cover&lt;86</td>\n",
       "      <td>-0.5&lt;=curvature&lt;0.0</td>\n",
       "      <td>0&lt;=patches&lt;10</td>\n",
       "      <td>7&lt;=morphology&lt;8</td>\n",
       "      <td>7.0</td>\n",
       "    </tr>\n",
       "    <tr>\n",
       "      <th>32</th>\n",
       "      <td>77.691986</td>\n",
       "      <td>-0.0000</td>\n",
       "      <td>586.0</td>\n",
       "      <td>5.0</td>\n",
       "      <td>24.533701</td>\n",
       "      <td>56.0</td>\n",
       "      <td>3.0</td>\n",
       "      <td>4.913983e+06</td>\n",
       "      <td>428869.354517</td>\n",
       "      <td>0.0</td>\n",
       "      <td>False</td>\n",
       "      <td>70&lt;=aspect&lt;80</td>\n",
       "      <td>24&lt;=slope&lt;26</td>\n",
       "      <td>580&lt;=elevation&lt;590</td>\n",
       "      <td>56&lt;=tree_cover&lt;58</td>\n",
       "      <td>0.0&lt;=curvature&lt;0.5</td>\n",
       "      <td>0&lt;=patches&lt;10</td>\n",
       "      <td>5&lt;=morphology&lt;6</td>\n",
       "      <td>3.0</td>\n",
       "    </tr>\n",
       "    <tr>\n",
       "      <th>34</th>\n",
       "      <td>60.945396</td>\n",
       "      <td>0.5184</td>\n",
       "      <td>16.0</td>\n",
       "      <td>7.0</td>\n",
       "      <td>2.390084</td>\n",
       "      <td>85.0</td>\n",
       "      <td>21.0</td>\n",
       "      <td>4.903206e+06</td>\n",
       "      <td>428996.060925</td>\n",
       "      <td>0.0</td>\n",
       "      <td>False</td>\n",
       "      <td>60&lt;=aspect&lt;70</td>\n",
       "      <td>2&lt;=slope&lt;4</td>\n",
       "      <td>10&lt;=elevation&lt;20</td>\n",
       "      <td>84&lt;=tree_cover&lt;86</td>\n",
       "      <td>0.5&lt;=curvature&lt;1.0</td>\n",
       "      <td>0&lt;=patches&lt;10</td>\n",
       "      <td>7&lt;=morphology&lt;8</td>\n",
       "      <td>21.0</td>\n",
       "    </tr>\n",
       "    <tr>\n",
       "      <th>45</th>\n",
       "      <td>0.000000</td>\n",
       "      <td>-0.1296</td>\n",
       "      <td>14.0</td>\n",
       "      <td>6.0</td>\n",
       "      <td>5.096679</td>\n",
       "      <td>58.0</td>\n",
       "      <td>14.0</td>\n",
       "      <td>4.877000e+06</td>\n",
       "      <td>404082.976082</td>\n",
       "      <td>0.0</td>\n",
       "      <td>False</td>\n",
       "      <td>0&lt;=aspect&lt;10</td>\n",
       "      <td>4&lt;=slope&lt;6</td>\n",
       "      <td>10&lt;=elevation&lt;20</td>\n",
       "      <td>58&lt;=tree_cover&lt;60</td>\n",
       "      <td>-0.5&lt;=curvature&lt;0.0</td>\n",
       "      <td>0&lt;=patches&lt;10</td>\n",
       "      <td>6&lt;=morphology&lt;7</td>\n",
       "      <td>14.0</td>\n",
       "    </tr>\n",
       "    <tr>\n",
       "      <th>...</th>\n",
       "      <td>...</td>\n",
       "      <td>...</td>\n",
       "      <td>...</td>\n",
       "      <td>...</td>\n",
       "      <td>...</td>\n",
       "      <td>...</td>\n",
       "      <td>...</td>\n",
       "      <td>...</td>\n",
       "      <td>...</td>\n",
       "      <td>...</td>\n",
       "      <td>...</td>\n",
       "      <td>...</td>\n",
       "      <td>...</td>\n",
       "      <td>...</td>\n",
       "      <td>...</td>\n",
       "      <td>...</td>\n",
       "      <td>...</td>\n",
       "      <td>...</td>\n",
       "      <td>...</td>\n",
       "    </tr>\n",
       "    <tr>\n",
       "      <th>3999950</th>\n",
       "      <td>91.847610</td>\n",
       "      <td>-0.6480</td>\n",
       "      <td>200.0</td>\n",
       "      <td>8.0</td>\n",
       "      <td>7.166818</td>\n",
       "      <td>85.0</td>\n",
       "      <td>3.0</td>\n",
       "      <td>4.907707e+06</td>\n",
       "      <td>421565.779741</td>\n",
       "      <td>0.0</td>\n",
       "      <td>False</td>\n",
       "      <td>90&lt;=aspect&lt;100</td>\n",
       "      <td>6&lt;=slope&lt;8</td>\n",
       "      <td>200&lt;=elevation&lt;210</td>\n",
       "      <td>84&lt;=tree_cover&lt;86</td>\n",
       "      <td>-1.0&lt;=curvature&lt;-0.5</td>\n",
       "      <td>0&lt;=patches&lt;10</td>\n",
       "      <td>8&lt;=morphology&lt;9</td>\n",
       "      <td>3.0</td>\n",
       "    </tr>\n",
       "    <tr>\n",
       "      <th>3999953</th>\n",
       "      <td>187.011856</td>\n",
       "      <td>-1.0368</td>\n",
       "      <td>258.0</td>\n",
       "      <td>5.0</td>\n",
       "      <td>37.373344</td>\n",
       "      <td>97.0</td>\n",
       "      <td>6.0</td>\n",
       "      <td>4.911949e+06</td>\n",
       "      <td>424488.277351</td>\n",
       "      <td>0.0</td>\n",
       "      <td>False</td>\n",
       "      <td>180&lt;=aspect&lt;190</td>\n",
       "      <td>36&lt;=slope&lt;38</td>\n",
       "      <td>250&lt;=elevation&lt;260</td>\n",
       "      <td>96&lt;=tree_cover&lt;98</td>\n",
       "      <td>-1.5&lt;=curvature&lt;-1.0</td>\n",
       "      <td>0&lt;=patches&lt;10</td>\n",
       "      <td>5&lt;=morphology&lt;6</td>\n",
       "      <td>6.0</td>\n",
       "    </tr>\n",
       "    <tr>\n",
       "      <th>3999966</th>\n",
       "      <td>225.000000</td>\n",
       "      <td>1.1664</td>\n",
       "      <td>95.0</td>\n",
       "      <td>2.0</td>\n",
       "      <td>1.642019</td>\n",
       "      <td>86.0</td>\n",
       "      <td>7.0</td>\n",
       "      <td>4.871964e+06</td>\n",
       "      <td>391823.200119</td>\n",
       "      <td>0.0</td>\n",
       "      <td>False</td>\n",
       "      <td>220&lt;=aspect&lt;230</td>\n",
       "      <td>0&lt;=slope&lt;2</td>\n",
       "      <td>90&lt;=elevation&lt;100</td>\n",
       "      <td>86&lt;=tree_cover&lt;88</td>\n",
       "      <td>1.0&lt;=curvature&lt;1.5</td>\n",
       "      <td>0&lt;=patches&lt;10</td>\n",
       "      <td>2&lt;=morphology&lt;3</td>\n",
       "      <td>7.0</td>\n",
       "    </tr>\n",
       "    <tr>\n",
       "      <th>3999972</th>\n",
       "      <td>348.690063</td>\n",
       "      <td>1.1664</td>\n",
       "      <td>77.0</td>\n",
       "      <td>7.0</td>\n",
       "      <td>8.233659</td>\n",
       "      <td>90.0</td>\n",
       "      <td>7.0</td>\n",
       "      <td>4.866273e+06</td>\n",
       "      <td>392486.010892</td>\n",
       "      <td>0.0</td>\n",
       "      <td>False</td>\n",
       "      <td>340&lt;=aspect&lt;350</td>\n",
       "      <td>8&lt;=slope&lt;10</td>\n",
       "      <td>70&lt;=elevation&lt;80</td>\n",
       "      <td>90&lt;=tree_cover&lt;92</td>\n",
       "      <td>1.0&lt;=curvature&lt;1.5</td>\n",
       "      <td>0&lt;=patches&lt;10</td>\n",
       "      <td>7&lt;=morphology&lt;8</td>\n",
       "      <td>7.0</td>\n",
       "    </tr>\n",
       "    <tr>\n",
       "      <th>3999973</th>\n",
       "      <td>71.565048</td>\n",
       "      <td>-0.6480</td>\n",
       "      <td>310.0</td>\n",
       "      <td>5.0</td>\n",
       "      <td>2.202518</td>\n",
       "      <td>86.0</td>\n",
       "      <td>3.0</td>\n",
       "      <td>4.916976e+06</td>\n",
       "      <td>441062.444633</td>\n",
       "      <td>0.0</td>\n",
       "      <td>False</td>\n",
       "      <td>70&lt;=aspect&lt;80</td>\n",
       "      <td>2&lt;=slope&lt;4</td>\n",
       "      <td>310&lt;=elevation&lt;320</td>\n",
       "      <td>86&lt;=tree_cover&lt;88</td>\n",
       "      <td>-1.0&lt;=curvature&lt;-0.5</td>\n",
       "      <td>0&lt;=patches&lt;10</td>\n",
       "      <td>5&lt;=morphology&lt;6</td>\n",
       "      <td>3.0</td>\n",
       "    </tr>\n",
       "  </tbody>\n",
       "</table>\n",
       "<p>511053 rows × 19 columns</p>\n",
       "</div>"
      ],
      "text/plain": [
       "             aspect  curvature  elevation  morphology      slope  tree_cover  \\\n",
       "15       329.036255    -0.3888      404.0         6.0   6.740799        90.0   \n",
       "16       205.346176    -0.3888      234.0         7.0   4.871637        85.0   \n",
       "32        77.691986    -0.0000      586.0         5.0  24.533701        56.0   \n",
       "34        60.945396     0.5184       16.0         7.0   2.390084        85.0   \n",
       "45         0.000000    -0.1296       14.0         6.0   5.096679        58.0   \n",
       "...             ...        ...        ...         ...        ...         ...   \n",
       "3999950   91.847610    -0.6480      200.0         8.0   7.166818        85.0   \n",
       "3999953  187.011856    -1.0368      258.0         5.0  37.373344        97.0   \n",
       "3999966  225.000000     1.1664       95.0         2.0   1.642019        86.0   \n",
       "3999972  348.690063     1.1664       77.0         7.0   8.233659        90.0   \n",
       "3999973   71.565048    -0.6480      310.0         5.0   2.202518        86.0   \n",
       "\n",
       "         vegetation          lats           lons  patches  wfall  \\\n",
       "15              6.0  4.916115e+06  438098.928341      0.0  False   \n",
       "16              7.0  4.907124e+06  437201.617039      0.0  False   \n",
       "32              3.0  4.913983e+06  428869.354517      0.0  False   \n",
       "34             21.0  4.903206e+06  428996.060925      0.0  False   \n",
       "45             14.0  4.877000e+06  404082.976082      0.0  False   \n",
       "...             ...           ...            ...      ...    ...   \n",
       "3999950         3.0  4.907707e+06  421565.779741      0.0  False   \n",
       "3999953         6.0  4.911949e+06  424488.277351      0.0  False   \n",
       "3999966         7.0  4.871964e+06  391823.200119      0.0  False   \n",
       "3999972         7.0  4.866273e+06  392486.010892      0.0  False   \n",
       "3999973         3.0  4.916976e+06  441062.444633      0.0  False   \n",
       "\n",
       "               gr_aspect      gr_slope        gr_elevation      gr_tree_cover  \\\n",
       "15       320<=aspect<330    6<=slope<8  400<=elevation<410  90<=tree_cover<92   \n",
       "16       200<=aspect<210    4<=slope<6  230<=elevation<240  84<=tree_cover<86   \n",
       "32         70<=aspect<80  24<=slope<26  580<=elevation<590  56<=tree_cover<58   \n",
       "34         60<=aspect<70    2<=slope<4    10<=elevation<20  84<=tree_cover<86   \n",
       "45          0<=aspect<10    4<=slope<6    10<=elevation<20  58<=tree_cover<60   \n",
       "...                  ...           ...                 ...                ...   \n",
       "3999950   90<=aspect<100    6<=slope<8  200<=elevation<210  84<=tree_cover<86   \n",
       "3999953  180<=aspect<190  36<=slope<38  250<=elevation<260  96<=tree_cover<98   \n",
       "3999966  220<=aspect<230    0<=slope<2   90<=elevation<100  86<=tree_cover<88   \n",
       "3999972  340<=aspect<350   8<=slope<10    70<=elevation<80  90<=tree_cover<92   \n",
       "3999973    70<=aspect<80    2<=slope<4  310<=elevation<320  86<=tree_cover<88   \n",
       "\n",
       "                 gr_curvature     gr_patches    gr_morphology  gr_vegetation  \n",
       "15        -0.5<=curvature<0.0  0<=patches<10  6<=morphology<7            6.0  \n",
       "16        -0.5<=curvature<0.0  0<=patches<10  7<=morphology<8            7.0  \n",
       "32         0.0<=curvature<0.5  0<=patches<10  5<=morphology<6            3.0  \n",
       "34         0.5<=curvature<1.0  0<=patches<10  7<=morphology<8           21.0  \n",
       "45        -0.5<=curvature<0.0  0<=patches<10  6<=morphology<7           14.0  \n",
       "...                       ...            ...              ...            ...  \n",
       "3999950  -1.0<=curvature<-0.5  0<=patches<10  8<=morphology<9            3.0  \n",
       "3999953  -1.5<=curvature<-1.0  0<=patches<10  5<=morphology<6            6.0  \n",
       "3999966    1.0<=curvature<1.5  0<=patches<10  2<=morphology<3            7.0  \n",
       "3999972    1.0<=curvature<1.5  0<=patches<10  7<=morphology<8            7.0  \n",
       "3999973  -1.0<=curvature<-0.5  0<=patches<10  5<=morphology<6            3.0  \n",
       "\n",
       "[511053 rows x 19 columns]"
      ]
     },
     "execution_count": 225,
     "metadata": {},
     "output_type": "execute_result"
    }
   ],
   "source": [
    "features"
   ]
  },
  {
   "cell_type": "code",
   "execution_count": 226,
   "metadata": {},
   "outputs": [
    {
     "name": "stderr",
     "output_type": "stream",
     "text": [
      "C:\\Users\\ASUS\\anaconda3\\envs\\sci\\lib\\site-packages\\numpy\\lib\\function_base.py:2192: RuntimeWarning: invalid value encountered in ? (vectorized)\n",
      "  outputs = ufunc(*inputs)\n"
     ]
    }
   ],
   "source": [
    "for name in feature_intervals:\n",
    "    patch_result = features.groupby(['gr_' + name, 'gr_patches', 'wfall'])[[name]].count().unstack(level=0)\n",
    "    patch_result.T.apply(lambda x: estimate_bin(x, x.fillna(0).sum())).T.to_csv(f\"patched_int_{name}.csv\")\n",
    "    total_result = features.groupby(['gr_'+ name, 'wfall'])[[name]].count().unstack(level=0)\n",
    "    total_result.T.apply(lambda x: estimate_bin(x, x.fillna(0).sum())).T.to_csv(f\"total_int_{name}.csv\")\n"
   ]
  },
  {
   "cell_type": "code",
   "execution_count": 227,
   "metadata": {},
   "outputs": [
    {
     "data": {
      "text/html": [
       "<div>\n",
       "<style scoped>\n",
       "    .dataframe tbody tr th:only-of-type {\n",
       "        vertical-align: middle;\n",
       "    }\n",
       "\n",
       "    .dataframe tbody tr th {\n",
       "        vertical-align: top;\n",
       "    }\n",
       "\n",
       "    .dataframe thead th {\n",
       "        text-align: right;\n",
       "    }\n",
       "</style>\n",
       "<table border=\"1\" class=\"dataframe\">\n",
       "  <thead>\n",
       "    <tr style=\"text-align: right;\">\n",
       "      <th>vegetation</th>\n",
       "      <th>0.0</th>\n",
       "      <th>3.0</th>\n",
       "      <th>4.0</th>\n",
       "      <th>6.0</th>\n",
       "      <th>7.0</th>\n",
       "      <th>9.0</th>\n",
       "      <th>11.0</th>\n",
       "      <th>14.0</th>\n",
       "      <th>16.0</th>\n",
       "      <th>18.0</th>\n",
       "      <th>20.0</th>\n",
       "      <th>21.0</th>\n",
       "      <th>127.0</th>\n",
       "    </tr>\n",
       "  </thead>\n",
       "  <tbody>\n",
       "    <tr>\n",
       "      <th>False</th>\n",
       "      <td>11271</td>\n",
       "      <td>149020</td>\n",
       "      <td>3074</td>\n",
       "      <td>179457</td>\n",
       "      <td>65496</td>\n",
       "      <td>3314</td>\n",
       "      <td>11217</td>\n",
       "      <td>30173</td>\n",
       "      <td>29636</td>\n",
       "      <td>638</td>\n",
       "      <td>2167</td>\n",
       "      <td>16313</td>\n",
       "      <td>186</td>\n",
       "    </tr>\n",
       "    <tr>\n",
       "      <th>True</th>\n",
       "      <td>91</td>\n",
       "      <td>2230</td>\n",
       "      <td>19</td>\n",
       "      <td>3096</td>\n",
       "      <td>2808</td>\n",
       "      <td>25</td>\n",
       "      <td>68</td>\n",
       "      <td>307</td>\n",
       "      <td>170</td>\n",
       "      <td>6</td>\n",
       "      <td>17</td>\n",
       "      <td>252</td>\n",
       "      <td>2</td>\n",
       "    </tr>\n",
       "  </tbody>\n",
       "</table>\n",
       "</div>"
      ],
      "text/plain": [
       "vegetation  0.0     3.0    4.0     6.0    7.0    9.0    11.0   14.0   16.0   \\\n",
       "False       11271  149020   3074  179457  65496   3314  11217  30173  29636   \n",
       "True           91    2230     19    3096   2808     25     68    307    170   \n",
       "\n",
       "vegetation  18.0   20.0   21.0   127.0  \n",
       "False         638   2167  16313    186  \n",
       "True            6     17    252      2  "
      ]
     },
     "execution_count": 227,
     "metadata": {},
     "output_type": "execute_result"
    }
   ],
   "source": [
    "pd.pivot_table(features, 'wfall',index=features.wfall.values, columns=['vegetation'],  aggfunc='count')"
   ]
  },
  {
   "cell_type": "code",
   "execution_count": 228,
   "metadata": {},
   "outputs": [],
   "source": [
    "cols = list(feature_intervals)\n",
    "cols.remove('patches')"
   ]
  },
  {
   "cell_type": "code",
   "execution_count": 229,
   "metadata": {},
   "outputs": [
    {
     "data": {
      "text/plain": [
       "['aspect',\n",
       " 'slope',\n",
       " 'elevation',\n",
       " 'tree_cover',\n",
       " 'curvature',\n",
       " 'morphology',\n",
       " 'vegetation']"
      ]
     },
     "execution_count": 229,
     "metadata": {},
     "output_type": "execute_result"
    }
   ],
   "source": [
    "cols"
   ]
  },
  {
   "cell_type": "code",
   "execution_count": 230,
   "metadata": {},
   "outputs": [],
   "source": [
    "y = features.wfall.values\n",
    "X = features[cols].values"
   ]
  },
  {
   "cell_type": "code",
   "execution_count": 231,
   "metadata": {},
   "outputs": [
    {
     "data": {
      "text/plain": [
       "array([0.23869419, 0.22937661, 0.22185293, 0.07006149, 0.14875206,\n",
       "       0.0511784 , 0.04008432])"
      ]
     },
     "execution_count": 231,
     "metadata": {},
     "output_type": "execute_result"
    }
   ],
   "source": [
    "from sklearn.ensemble import RandomForestClassifier\n",
    "clf = RandomForestClassifier()\n",
    "clf.fit(X, y)\n",
    "clf.feature_importances_"
   ]
  },
  {
   "cell_type": "code",
   "execution_count": 232,
   "metadata": {},
   "outputs": [
    {
     "name": "stdout",
     "output_type": "stream",
     "text": [
      "[0.98237756 0.98239517 0.98256541]\n"
     ]
    }
   ],
   "source": [
    "from sklearn.model_selection import cross_val_score\n",
    "from sklearn.metrics import balanced_accuracy_score\n",
    "print(cross_val_score(clf, X, y, cv=3, scoring='accuracy'))"
   ]
  },
  {
   "cell_type": "markdown",
   "metadata": {},
   "source": [
    "# Model building (RF classifier)"
   ]
  },
  {
   "cell_type": "code",
   "execution_count": 233,
   "metadata": {},
   "outputs": [],
   "source": [
    "import numpy as np\n",
    "import pandas as pd\n",
    "from sklearn.preprocessing import StandardScaler\n",
    "from collections import Counter\n",
    "\n",
    "from sklearn.tree import DecisionTreeClassifier\n",
    "from sklearn.ensemble import RandomForestClassifier, AdaBoostClassifier\n",
    "from sklearn.naive_bayes import GaussianNB\n",
    "from sklearn.discriminant_analysis import QuadraticDiscriminantAnalysis, LinearDiscriminantAnalysis\n",
    "from sklearn.linear_model import LogisticRegression\n",
    "from sklearn.model_selection import GridSearchCV, cross_val_score\n",
    "from sklearn.metrics import confusion_matrix\n",
    "import seaborn as sns\n",
    "from joblib import dump, load"
   ]
  },
  {
   "cell_type": "code",
   "execution_count": 234,
   "metadata": {},
   "outputs": [],
   "source": [
    "estimators = [\n",
    "    ('rfc', RandomForestClassifier()),\n",
    "#     ('lda', LinearDiscriminantAnalysis()),\n",
    "#     ('qda', QuadraticDiscriminantAnalysis()),\n",
    "#     ('log', LogisticRegression())\n",
    "]\n",
    "\n",
    "params = {\n",
    "    'rfc': {\n",
    "        'n_estimators': [200],\n",
    "        'max_depth': [20],\n",
    "        'min_samples_split': [2000],\n",
    "        'class_weight': ['balanced_subsample']\n",
    "    },\n",
    "    \n",
    "    'lda': {\n",
    "        'n_components': [2,]\n",
    "    },\n",
    "    \n",
    "    'qda': {\n",
    "        \n",
    "        \n",
    "    },\n",
    "    \n",
    "    'log': {\n",
    "        'penalty' : ['l1', 'l2'],\n",
    "        'C': [1.0, 0.1, 0.01, 0.001],\n",
    "        'class_weight': ['balanced']\n",
    "    }\n",
    "    \n",
    "}"
   ]
  },
  {
   "cell_type": "code",
   "execution_count": 235,
   "metadata": {},
   "outputs": [],
   "source": [
    "X_ = features[cols].values\n",
    "y = features.wfall.astype(int)"
   ]
  },
  {
   "cell_type": "code",
   "execution_count": 236,
   "metadata": {},
   "outputs": [
    {
     "name": "stdout",
     "output_type": "stream",
     "text": [
      "Fitting 5 folds for each of 1 candidates, totalling 5 fits\n"
     ]
    },
    {
     "name": "stderr",
     "output_type": "stream",
     "text": [
      "[Parallel(n_jobs=14)]: Using backend LokyBackend with 14 concurrent workers.\n",
      "[Parallel(n_jobs=14)]: Done   2 out of   5 | elapsed:  2.4min remaining:  3.6min\n",
      "[Parallel(n_jobs=14)]: Done   5 out of   5 | elapsed:  2.5min finished\n"
     ]
    },
    {
     "name": "stdout",
     "output_type": "stream",
     "text": [
      "Resutls for rfc.\n",
      "Balanced accuracy score: 0.7303877838639734\n",
      "Confusion matrix: [[359127   1719]\n",
      " [142835   7372]]\n"
     ]
    }
   ],
   "source": [
    "results = dict()\n",
    "for cl_name, clf in estimators:\n",
    "    gcv = GridSearchCV(clf, param_grid=params[cl_name], n_jobs=14, scoring='balanced_accuracy', verbose=1, cv=5)\n",
    "    gcv.fit(X_, y)\n",
    "    print(f\"Resutls for {cl_name}.\")\n",
    "    print(f\"Balanced accuracy score: {gcv.best_score_}\")\n",
    "    print(f\"Confusion matrix: {confusion_matrix(gcv.best_estimator_.predict(X_), y)}\")\n",
    "    results[cl_name] = gcv"
   ]
  },
  {
   "cell_type": "code",
   "execution_count": 246,
   "metadata": {},
   "outputs": [
    {
     "ename": "TypeError",
     "evalue": "list indices must be integers or slices, not str",
     "output_type": "error",
     "traceback": [
      "\u001b[1;31m---------------------------------------------------------------------------\u001b[0m",
      "\u001b[1;31mTypeError\u001b[0m                                 Traceback (most recent call last)",
      "\u001b[1;32m<ipython-input-246-ad09b1e30288>\u001b[0m in \u001b[0;36m<module>\u001b[1;34m\u001b[0m\n\u001b[1;32m----> 1\u001b[1;33m \u001b[1;32mfor\u001b[0m \u001b[0mf\u001b[0m\u001b[1;33m,\u001b[0m \u001b[0mimp\u001b[0m \u001b[1;32min\u001b[0m \u001b[0mzip\u001b[0m\u001b[1;33m(\u001b[0m\u001b[0mcols\u001b[0m\u001b[1;33m,\u001b[0m \u001b[0mresults\u001b[0m\u001b[1;33m[\u001b[0m\u001b[1;34m'rfc'\u001b[0m\u001b[1;33m]\u001b[0m\u001b[1;33m.\u001b[0m\u001b[0mbest_estimator_\u001b[0m\u001b[1;33m.\u001b[0m\u001b[0mfeature_importances_\u001b[0m\u001b[1;33m)\u001b[0m\u001b[1;33m:\u001b[0m\u001b[1;33m\u001b[0m\u001b[1;33m\u001b[0m\u001b[0m\n\u001b[0m\u001b[0;32m      2\u001b[0m     \u001b[0mprint\u001b[0m\u001b[1;33m(\u001b[0m\u001b[1;34mf\"feature {f}: {imp}.\"\u001b[0m\u001b[1;33m)\u001b[0m\u001b[1;33m\u001b[0m\u001b[1;33m\u001b[0m\u001b[0m\n",
      "\u001b[1;31mTypeError\u001b[0m: list indices must be integers or slices, not str"
     ]
    }
   ],
   "source": [
    "for f, imp in zip(cols, results['rfc'].best_estimator_.feature_importances_):\n",
    "    print(f\"feature {f}: {imp}.\")"
   ]
  },
  {
   "cell_type": "code",
   "execution_count": 238,
   "metadata": {},
   "outputs": [],
   "source": [
    "n_features = len(cols)"
   ]
  },
  {
   "cell_type": "code",
   "execution_count": 239,
   "metadata": {},
   "outputs": [
    {
     "data": {
      "text/plain": [
       "RandomForestClassifier(class_weight='balanced_subsample', max_depth=20,\n",
       "                       min_samples_split=4000, n_estimators=10)"
      ]
     },
     "execution_count": 239,
     "metadata": {},
     "output_type": "execute_result"
    }
   ],
   "source": [
    "results = []\n",
    "clf = RandomForestClassifier(**{'class_weight': 'balanced_subsample',\n",
    " 'max_depth': 20,\n",
    " 'min_samples_split': 4000,\n",
    " 'n_estimators': 10})\n",
    "clf.fit(X_, y)"
   ]
  },
  {
   "cell_type": "code",
   "execution_count": 240,
   "metadata": {},
   "outputs": [
    {
     "data": {
      "text/plain": [
       "['rf_clf_kun.joblib']"
      ]
     },
     "execution_count": 240,
     "metadata": {},
     "output_type": "execute_result"
    }
   ],
   "source": [
    "dump(clf, 'rf_clf_kun.joblib') "
   ]
  },
  {
   "cell_type": "code",
   "execution_count": 241,
   "metadata": {},
   "outputs": [
    {
     "name": "stdout",
     "output_type": "stream",
     "text": [
      "2\n",
      "3\n",
      "4\n",
      "5\n",
      "6\n",
      "7\n",
      "8\n",
      "9\n",
      "10\n",
      "11\n",
      "12\n",
      "13\n",
      "14\n",
      "15\n",
      "16\n",
      "17\n",
      "18\n",
      "19\n",
      "20\n",
      "21\n",
      "22\n",
      "23\n",
      "24\n",
      "25\n",
      "26\n",
      "27\n",
      "28\n",
      "29\n",
      "30\n",
      "31\n",
      "32\n",
      "33\n",
      "34\n",
      "35\n",
      "36\n",
      "37\n",
      "38\n",
      "39\n",
      "40\n",
      "41\n",
      "42\n",
      "43\n",
      "44\n",
      "45\n",
      "46\n",
      "47\n",
      "48\n",
      "49\n",
      "50\n",
      "51\n",
      "52\n",
      "53\n",
      "54\n",
      "55\n",
      "56\n",
      "57\n",
      "58\n",
      "59\n",
      "60\n",
      "61\n",
      "62\n",
      "63\n",
      "64\n",
      "65\n",
      "66\n",
      "67\n",
      "68\n",
      "69\n",
      "70\n",
      "71\n",
      "72\n",
      "73\n",
      "74\n",
      "75\n",
      "76\n",
      "77\n",
      "78\n",
      "79\n",
      "80\n",
      "81\n",
      "82\n",
      "83\n",
      "84\n",
      "85\n",
      "86\n",
      "87\n",
      "88\n",
      "89\n",
      "90\n",
      "91\n",
      "92\n",
      "93\n",
      "94\n",
      "95\n",
      "96\n",
      "97\n",
      "98\n",
      "99\n",
      "100\n",
      "101\n",
      "102\n",
      "103\n",
      "104\n",
      "105\n",
      "106\n",
      "107\n",
      "108\n",
      "109\n",
      "110\n",
      "111\n",
      "112\n",
      "113\n",
      "114\n",
      "115\n",
      "116\n",
      "117\n",
      "118\n",
      "119\n",
      "120\n",
      "121\n",
      "122\n",
      "123\n",
      "124\n",
      "125\n",
      "126\n"
     ]
    }
   ],
   "source": [
    "results = []\n",
    "clf = RandomForestClassifier(**{'class_weight': 'balanced_subsample',\n",
    " 'max_depth': 20,\n",
    " 'min_samples_split': 4000,\n",
    " 'n_estimators': 10})\n",
    "for j in range(2, 2 ** n_features - 1):\n",
    "    print(j)\n",
    "    mask = np.array(list(format(j, f'#0{n_features + 2}b')[2:]), dtype=int).astype(bool)\n",
    "    if sum(mask) > 2:\n",
    "        errors = cross_val_score(clf, X_[:, mask], y, n_jobs=14,scoring='balanced_accuracy')\n",
    "        results.append((mask, errors))\n",
    "        # print(f\"Trying features {np.array(features)[mask]}: mean={errors.mean()}, std={errors.std()}.\")"
   ]
  },
  {
   "cell_type": "code",
   "execution_count": 242,
   "metadata": {},
   "outputs": [
    {
     "name": "stdout",
     "output_type": "stream",
     "text": [
      "['aspect' 'elevation' 'tree_cover' 'morphology' 'vegetation'] 0.7248335932086011\n",
      "['aspect' 'slope' 'elevation' 'tree_cover' 'vegetation'] 0.7236516070481267\n",
      "['aspect' 'slope' 'elevation' 'tree_cover' 'morphology' 'vegetation'] 0.7236370027887835\n",
      "['aspect' 'slope' 'elevation' 'tree_cover' 'curvature' 'vegetation'] 0.722627789041286\n",
      "['aspect' 'elevation' 'tree_cover' 'vegetation'] 0.7206344342908457\n",
      "['aspect' 'elevation' 'tree_cover' 'curvature' 'morphology' 'vegetation'] 0.7199484292030747\n",
      "['aspect' 'elevation' 'tree_cover' 'curvature' 'vegetation'] 0.7190748501117877\n",
      "['elevation' 'tree_cover' 'morphology' 'vegetation'] 0.7119832141292906\n",
      "['slope' 'elevation' 'tree_cover' 'vegetation'] 0.7110639036418507\n",
      "['aspect' 'slope' 'elevation' 'curvature' 'morphology' 'vegetation'] 0.7110432223003231\n",
      "['aspect' 'slope' 'elevation' 'morphology' 'vegetation'] 0.7106243680648786\n",
      "['elevation' 'tree_cover' 'curvature' 'morphology' 'vegetation'] 0.7105203937039601\n",
      "['slope' 'elevation' 'tree_cover' 'curvature' 'vegetation'] 0.709622499243433\n",
      "['aspect' 'slope' 'elevation' 'vegetation'] 0.7095785835195729\n",
      "['slope' 'elevation' 'tree_cover' 'morphology' 'vegetation'] 0.7095258408195226\n",
      "['slope' 'elevation' 'tree_cover' 'curvature' 'morphology' 'vegetation'] 0.7092996216418115\n",
      "['elevation' 'tree_cover' 'vegetation'] 0.7090297368464602\n",
      "['elevation' 'tree_cover' 'curvature' 'vegetation'] 0.7086373823675077\n",
      "['aspect' 'elevation' 'morphology' 'vegetation'] 0.708461047183812\n",
      "['aspect' 'slope' 'elevation' 'curvature' 'vegetation'] 0.708373980763834\n",
      "['aspect' 'elevation' 'curvature' 'morphology' 'vegetation'] 0.7077142587056974\n",
      "['aspect' 'slope' 'elevation' 'tree_cover' 'morphology'] 0.7058482847892633\n",
      "['aspect' 'slope' 'elevation' 'tree_cover'] 0.7057957102603793\n",
      "['aspect' 'slope' 'elevation' 'tree_cover' 'curvature'] 0.7057531933177146\n",
      "['aspect' 'slope' 'elevation' 'tree_cover' 'curvature' 'morphology'] 0.7044425003105038\n",
      "['aspect' 'elevation' 'vegetation'] 0.7039622997443759\n",
      "['aspect' 'elevation' 'curvature' 'vegetation'] 0.7038753317380055\n",
      "['aspect' 'elevation' 'tree_cover' 'morphology'] 0.703724515815213\n",
      "['aspect' 'elevation' 'tree_cover' 'curvature' 'morphology'] 0.7020543529359664\n",
      "['aspect' 'elevation' 'tree_cover'] 0.7006880311605629\n",
      "['aspect' 'elevation' 'tree_cover' 'curvature'] 0.6989130918015235\n",
      "['slope' 'elevation' 'curvature' 'morphology' 'vegetation'] 0.6937683051159512\n",
      "['slope' 'elevation' 'tree_cover' 'curvature' 'morphology'] 0.6933431217932787\n",
      "['aspect' 'slope' 'elevation' 'morphology'] 0.6928003746785248\n",
      "['slope' 'elevation' 'tree_cover' 'morphology'] 0.6926509933172446\n",
      "['slope' 'elevation' 'curvature' 'vegetation'] 0.6918692143441681\n",
      "['slope' 'elevation' 'tree_cover' 'curvature'] 0.691630127188344\n",
      "['slope' 'elevation' 'tree_cover'] 0.6914915403197452\n",
      "['slope' 'elevation' 'morphology' 'vegetation'] 0.6913322905136841\n",
      "['elevation' 'curvature' 'morphology' 'vegetation'] 0.69114261148824\n",
      "['elevation' 'tree_cover' 'morphology'] 0.6909767613699389\n",
      "['elevation' 'morphology' 'vegetation'] 0.6904802907510815\n",
      "['slope' 'elevation' 'vegetation'] 0.6903340106084241\n",
      "['elevation' 'tree_cover' 'curvature' 'morphology'] 0.6902086221088901\n",
      "['aspect' 'slope' 'elevation'] 0.6896439150670667\n",
      "['elevation' 'curvature' 'vegetation'] 0.6889570639537201\n",
      "['aspect' 'slope' 'elevation' 'curvature' 'morphology'] 0.6887807385684568\n",
      "['elevation' 'tree_cover' 'curvature'] 0.6884839442138995\n",
      "['aspect' 'elevation' 'morphology'] 0.6881833516436242\n",
      "['aspect' 'slope' 'elevation' 'curvature'] 0.6878131111435974\n",
      "['aspect' 'elevation' 'curvature' 'morphology'] 0.6839201290384183\n",
      "['aspect' 'elevation' 'curvature'] 0.6782866530380262\n",
      "['slope' 'elevation' 'curvature' 'morphology'] 0.6744371104015121\n",
      "['slope' 'elevation' 'curvature'] 0.674203248476411\n",
      "['slope' 'elevation' 'morphology'] 0.6727723422130942\n",
      "['elevation' 'curvature' 'morphology'] 0.6722944203907151\n",
      "['aspect' 'slope' 'tree_cover' 'vegetation'] 0.6672022686024202\n",
      "['aspect' 'slope' 'tree_cover' 'morphology' 'vegetation'] 0.6656401886007344\n",
      "['aspect' 'slope' 'tree_cover' 'curvature' 'vegetation'] 0.6654245072670104\n",
      "['aspect' 'slope' 'tree_cover' 'curvature' 'morphology' 'vegetation'] 0.663499785409116\n",
      "['aspect' 'tree_cover' 'morphology' 'vegetation'] 0.6627867707888507\n",
      "['aspect' 'tree_cover' 'curvature' 'morphology' 'vegetation'] 0.6598702196633017\n",
      "['aspect' 'tree_cover' 'curvature' 'vegetation'] 0.6554429952074667\n",
      "['aspect' 'tree_cover' 'vegetation'] 0.6550044555945924\n",
      "['slope' 'tree_cover' 'morphology' 'vegetation'] 0.6443933722684834\n",
      "['slope' 'tree_cover' 'curvature' 'morphology' 'vegetation'] 0.6422669357613796\n",
      "['slope' 'tree_cover' 'curvature' 'vegetation'] 0.640137928950816\n",
      "['slope' 'tree_cover' 'vegetation'] 0.6386675102877236\n",
      "['aspect' 'slope' 'tree_cover' 'curvature' 'morphology'] 0.6369180125231083\n",
      "['aspect' 'slope' 'tree_cover' 'morphology'] 0.6364284816107221\n",
      "['aspect' 'slope' 'tree_cover'] 0.6334169724804658\n",
      "['aspect' 'slope' 'tree_cover' 'curvature'] 0.6331149074550618\n",
      "['aspect' 'slope' 'morphology' 'vegetation'] 0.6326579847994556\n",
      "['aspect' 'tree_cover' 'curvature' 'morphology'] 0.6325873775742348\n",
      "['aspect' 'slope' 'curvature' 'morphology' 'vegetation'] 0.6325013476857291\n",
      "['tree_cover' 'curvature' 'morphology' 'vegetation'] 0.6322755800077382\n",
      "['tree_cover' 'morphology' 'vegetation'] 0.6320756998536566\n",
      "['aspect' 'slope' 'curvature' 'vegetation'] 0.6307401258304557\n",
      "['aspect' 'tree_cover' 'morphology'] 0.6290840517879123\n",
      "['aspect' 'slope' 'vegetation'] 0.6286840038607229\n",
      "['aspect' 'curvature' 'morphology' 'vegetation'] 0.6238933139099649\n",
      "['aspect' 'morphology' 'vegetation'] 0.6235323672831055\n",
      "['tree_cover' 'curvature' 'vegetation'] 0.6233925205266859\n",
      "['aspect' 'curvature' 'vegetation'] 0.617724752897561\n",
      "['aspect' 'tree_cover' 'curvature'] 0.614368425285925\n",
      "['slope' 'tree_cover' 'curvature' 'morphology'] 0.6124495695264814\n",
      "['slope' 'curvature' 'morphology' 'vegetation'] 0.6109451553902769\n",
      "['slope' 'morphology' 'vegetation'] 0.6108425582615664\n",
      "['slope' 'tree_cover' 'morphology'] 0.6106610174248082\n",
      "['slope' 'tree_cover' 'curvature'] 0.6102932419208333\n",
      "['curvature' 'morphology' 'vegetation'] 0.6031543975061116\n",
      "['slope' 'curvature' 'vegetation'] 0.601116091318286\n",
      "['tree_cover' 'curvature' 'morphology'] 0.5955987022531446\n",
      "['aspect' 'slope' 'curvature' 'morphology'] 0.5878707041366875\n",
      "['aspect' 'slope' 'morphology'] 0.586755699483854\n",
      "['aspect' 'slope' 'curvature'] 0.5821810441876022\n",
      "['aspect' 'curvature' 'morphology'] 0.5744587567501028\n",
      "['slope' 'curvature' 'morphology'] 0.5566637231215639\n"
     ]
    }
   ],
   "source": [
    "for ffs, vals in sorted(results, key=lambda x: x[1].mean(), reverse=True):\n",
    "    print(np.array(cols)[ffs], vals.mean())"
   ]
  },
  {
   "cell_type": "code",
   "execution_count": 243,
   "metadata": {},
   "outputs": [],
   "source": [
    "comm = []\n",
    "for ffs, vals in filter(lambda x: x[1].mean()>0.74,results):\n",
    "    comm.append(np.array(cols)[ffs].tolist())"
   ]
  },
  {
   "cell_type": "code",
   "execution_count": 244,
   "metadata": {},
   "outputs": [],
   "source": [
    "from functools import reduce"
   ]
  },
  {
   "cell_type": "code",
   "execution_count": 245,
   "metadata": {},
   "outputs": [
    {
     "ename": "TypeError",
     "evalue": "reduce() of empty sequence with no initial value",
     "output_type": "error",
     "traceback": [
      "\u001b[1;31m---------------------------------------------------------------------------\u001b[0m",
      "\u001b[1;31mTypeError\u001b[0m                                 Traceback (most recent call last)",
      "\u001b[1;32m<ipython-input-245-59a72c3f1d58>\u001b[0m in \u001b[0;36m<module>\u001b[1;34m\u001b[0m\n\u001b[1;32m----> 1\u001b[1;33m \u001b[0mreduce\u001b[0m\u001b[1;33m(\u001b[0m\u001b[1;32mlambda\u001b[0m \u001b[0mx\u001b[0m\u001b[1;33m,\u001b[0m \u001b[0my\u001b[0m\u001b[1;33m:\u001b[0m \u001b[0mx\u001b[0m\u001b[1;33m.\u001b[0m\u001b[0mintersection\u001b[0m\u001b[1;33m(\u001b[0m\u001b[0my\u001b[0m\u001b[1;33m)\u001b[0m\u001b[1;33m,\u001b[0m \u001b[0mmap\u001b[0m\u001b[1;33m(\u001b[0m\u001b[0mset\u001b[0m\u001b[1;33m,\u001b[0m \u001b[0mcomm\u001b[0m\u001b[1;33m)\u001b[0m\u001b[1;33m)\u001b[0m\u001b[1;33m\u001b[0m\u001b[1;33m\u001b[0m\u001b[0m\n\u001b[0m",
      "\u001b[1;31mTypeError\u001b[0m: reduce() of empty sequence with no initial value"
     ]
    }
   ],
   "source": [
    "reduce(lambda x, y: x.intersection(y), map(set, comm))"
   ]
  }
 ],
 "metadata": {
  "kernelspec": {
   "display_name": "Python 3",
   "language": "python",
   "name": "python3"
  },
  "language_info": {
   "codemirror_mode": {
    "name": "ipython",
    "version": 3
   },
   "file_extension": ".py",
   "mimetype": "text/x-python",
   "name": "python",
   "nbconvert_exporter": "python",
   "pygments_lexer": "ipython3",
   "version": "3.7.9"
  }
 },
 "nbformat": 4,
 "nbformat_minor": 4
}
