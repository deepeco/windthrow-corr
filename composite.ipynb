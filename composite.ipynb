{
 "cells": [
  {
   "cell_type": "code",
   "execution_count": 27,
   "metadata": {},
   "outputs": [],
   "source": [
    "import numpy as np\n",
    "import pandas as pd\n",
    "from sklearn.preprocessing import StandardScaler\n",
    "from collections import Counter\n",
    "\n",
    "from sklearn.tree import DecisionTreeClassifier\n",
    "from sklearn.ensemble import RandomForestClassifier, AdaBoostClassifier\n",
    "from sklearn.naive_bayes import GaussianNB\n",
    "from sklearn.discriminant_analysis import QuadraticDiscriminantAnalysis, LinearDiscriminantAnalysis\n",
    "from sklearn.linear_model import LogisticRegression\n",
    "from sklearn.model_selection import GridSearchCV, cross_val_score\n",
    "from sklearn.metrics import confusion_matrix\n",
    "import seaborn as sns\n",
    "from joblib import dump, load"
   ]
  },
  {
   "cell_type": "code",
   "execution_count": 7,
   "metadata": {},
   "outputs": [],
   "source": [
    "X = np.load('features.npy')\n",
    "y = np.load('group.npy')\n",
    "features = ['aspect', 'curvature', 'elevation', 'morphology', 'slope', 'tree-cover', 'patches']"
   ]
  },
  {
   "cell_type": "code",
   "execution_count": 8,
   "metadata": {},
   "outputs": [],
   "source": [
    "estimators = [\n",
    "    ('rfc', RandomForestClassifier()),\n",
    "#     ('lda', LinearDiscriminantAnalysis()),\n",
    "#     ('qda', QuadraticDiscriminantAnalysis()),\n",
    "#     ('log', LogisticRegression())\n",
    "]\n",
    "\n",
    "params = {\n",
    "    'rfc': {\n",
    "        'n_estimators': [200],\n",
    "        'max_depth': [20],\n",
    "        'min_samples_split': [2000],\n",
    "        'class_weight': ['balanced_subsample']\n",
    "    },\n",
    "    \n",
    "    'lda': {\n",
    "        'n_components': [2,]\n",
    "    },\n",
    "    \n",
    "    'qda': {\n",
    "        \n",
    "        \n",
    "    },\n",
    "    \n",
    "    'log': {\n",
    "        'penalty' : ['l1', 'l2'],\n",
    "        'C': [1.0, 0.1, 0.01, 0.001],\n",
    "        'class_weight': ['balanced']\n",
    "    }\n",
    "    \n",
    "}"
   ]
  },
  {
   "cell_type": "code",
   "execution_count": 9,
   "metadata": {},
   "outputs": [],
   "source": [
    "#X_ = StandardScaler().fit_transform(X[:, [True, False,False, True,True,True,True,True,False]])\n",
    "X_ = X[:, [True, False, False, True, True, True, True, True, False]]\n",
    "y = y.astype(int)"
   ]
  },
  {
   "cell_type": "code",
   "execution_count": null,
   "metadata": {},
   "outputs": [],
   "source": [
    "results = dict()\n",
    "for cl_name, clf in estimators:\n",
    "    gcv = GridSearchCV(clf, param_grid=params[cl_name], n_jobs=14, scoring='balanced_accuracy', verbose=1, cv=5)\n",
    "    gcv.fit(X_, y)\n",
    "    print(f\"Resutls for {cl_name}.\")\n",
    "    print(f\"Balanced accuracy score: {gcv.best_score_}\")\n",
    "    print(f\"Confusion matrix: {confusion_matrix(gcv.best_estimator_.predict(X_), y)}\")\n",
    "    results[cl_name] = gcv"
   ]
  },
  {
   "cell_type": "code",
   "execution_count": null,
   "metadata": {},
   "outputs": [],
   "source": [
    "gcv.best_params_"
   ]
  },
  {
   "cell_type": "code",
   "execution_count": null,
   "metadata": {},
   "outputs": [],
   "source": [
    "for f, imp in zip(features[:-1], results['rfc'].best_estimator_.feature_importances_):\n",
    "    print(f\"feature {f}: {imp}.\")"
   ]
  },
  {
   "cell_type": "code",
   "execution_count": null,
   "metadata": {},
   "outputs": [],
   "source": [
    "#X_ = StandardScaler().fit_transform(X[:, [True, False,False, True,True,True,True,True,False]])\n",
    "#y = y.astype(int)"
   ]
  },
  {
   "cell_type": "code",
   "execution_count": 10,
   "metadata": {},
   "outputs": [],
   "source": [
    "# features = ['aspect', 'curvature-plan', 'curvature-prof', 'curvature', 'elevation', 'morphology', 'slope', 'tree-cover', 'patches']\n",
    "features = np.array(['aspect',  'curvature', 'elevation', 'morphology', 'slope', 'tree-cover'])"
   ]
  },
  {
   "cell_type": "code",
   "execution_count": 11,
   "metadata": {},
   "outputs": [],
   "source": [
    "n_features = len(features)"
   ]
  },
  {
   "cell_type": "code",
   "execution_count": 12,
   "metadata": {},
   "outputs": [
    {
     "data": {
      "text/plain": [
       "6"
      ]
     },
     "execution_count": 12,
     "metadata": {},
     "output_type": "execute_result"
    }
   ],
   "source": [
    "n_features"
   ]
  },
  {
   "cell_type": "code",
   "execution_count": 13,
   "metadata": {},
   "outputs": [
    {
     "data": {
      "text/plain": [
       "(924000, 6)"
      ]
     },
     "execution_count": 13,
     "metadata": {},
     "output_type": "execute_result"
    }
   ],
   "source": [
    "X_.shape"
   ]
  },
  {
   "cell_type": "code",
   "execution_count": 18,
   "metadata": {},
   "outputs": [
    {
     "data": {
      "text/plain": [
       "Counter({0: 901495, 1: 22505})"
      ]
     },
     "execution_count": 18,
     "metadata": {},
     "output_type": "execute_result"
    }
   ],
   "source": [
    "Counter(y)"
   ]
  },
  {
   "cell_type": "code",
   "execution_count": 23,
   "metadata": {},
   "outputs": [],
   "source": [
    "TP = Counter(y)[1] / 2\n",
    "TN = Counter(y)[0] / 2\n",
    "FP = Counter(y)[0] / 2\n",
    "FN = Counter(y)[1] / 2"
   ]
  },
  {
   "cell_type": "code",
   "execution_count": 24,
   "metadata": {},
   "outputs": [
    {
     "data": {
      "text/plain": [
       "0.5"
      ]
     },
     "execution_count": 24,
     "metadata": {},
     "output_type": "execute_result"
    }
   ],
   "source": [
    "(TP/(TP+FN) + TN/(TN+FP))/2"
   ]
  },
  {
   "cell_type": "code",
   "execution_count": 25,
   "metadata": {},
   "outputs": [
    {
     "data": {
      "text/plain": [
       "RandomForestClassifier(class_weight='balanced_subsample', max_depth=20,\n",
       "                       min_samples_split=4000, n_estimators=10)"
      ]
     },
     "execution_count": 25,
     "metadata": {},
     "output_type": "execute_result"
    }
   ],
   "source": [
    "results = []\n",
    "clf = RandomForestClassifier(**{'class_weight': 'balanced_subsample',\n",
    " 'max_depth': 20,\n",
    " 'min_samples_split': 4000,\n",
    " 'n_estimators': 10})\n",
    "clf.fit(X_, y)"
   ]
  },
  {
   "cell_type": "code",
   "execution_count": 28,
   "metadata": {},
   "outputs": [
    {
     "data": {
      "text/plain": [
       "['rf_clf.joblib']"
      ]
     },
     "execution_count": 28,
     "metadata": {},
     "output_type": "execute_result"
    }
   ],
   "source": [
    "dump(clf, 'rf_clf.joblib') "
   ]
  },
  {
   "cell_type": "code",
   "execution_count": null,
   "metadata": {},
   "outputs": [],
   "source": [
    "results = []\n",
    "clf = RandomForestClassifier(**{'class_weight': 'balanced_subsample',\n",
    " 'max_depth': 20,\n",
    " 'min_samples_split': 4000,\n",
    " 'n_estimators': 10})\n",
    "for j in range(2, 2 ** n_features - 1):\n",
    "    print(j)\n",
    "    mask = np.array(list(format(j, f'#0{n_features + 2}b')[2:]), dtype=int).astype(bool)\n",
    "    if sum(mask) > 2:\n",
    "        errors = cross_val_score(clf, X_[:, mask], y, n_jobs=14,scoring='balanced_accuracy')\n",
    "        results.append((mask, errors))\n",
    "        # print(f\"Trying features {np.array(features)[mask]}: mean={errors.mean()}, std={errors.std()}.\")"
   ]
  },
  {
   "cell_type": "code",
   "execution_count": null,
   "metadata": {},
   "outputs": [],
   "source": [
    "features  "
   ]
  },
  {
   "cell_type": "code",
   "execution_count": null,
   "metadata": {},
   "outputs": [],
   "source": [
    "for ffs, vals in sorted(results, key=lambda x: x[1].mean(), reverse=True):\n",
    "    print(features[ffs], vals.mean())"
   ]
  },
  {
   "cell_type": "code",
   "execution_count": null,
   "metadata": {},
   "outputs": [],
   "source": [
    "cross_val_score(clf, X_, y, n_jobs=14,scoring='balanced_accuracy')"
   ]
  },
  {
   "cell_type": "code",
   "execution_count": null,
   "metadata": {},
   "outputs": [],
   "source": [
    "comm = []\n",
    "for ffs, vals in filter(lambda x: x[1].mean()>0.69,results):\n",
    "    comm.append(features[ffs].tolist())"
   ]
  },
  {
   "cell_type": "code",
   "execution_count": null,
   "metadata": {},
   "outputs": [],
   "source": [
    "from functools import reduce"
   ]
  },
  {
   "cell_type": "code",
   "execution_count": null,
   "metadata": {},
   "outputs": [],
   "source": [
    "reduce(lambda x, y: x.intersection(y), map(set, comm))"
   ]
  },
  {
   "cell_type": "markdown",
   "metadata": {},
   "source": [
    "{'aspect', 'morphology', 'tree-cover'} -- эти предикторы всегда были в лучших результатах. Они обязательно должны быть, чтобы попытка угадать упадет ли лес в данной точке была хотя бы немного успешной... фактически это общие предикторы для все лучших случаев, т.е. тех случаев, у которых средняя точность, вычисленная по пяти случайным разбиением исходных данных на тестовую и проверочную, оказалась выше 0.69. "
   ]
  },
  {
   "cell_type": "code",
   "execution_count": null,
   "metadata": {},
   "outputs": [],
   "source": [
    "import numpy as np\n",
    "import pandas as pd\n",
    "import seaborn as sns\n",
    "import matplotlib.pyplot as plt\n",
    "\n",
    "sns.set_theme(style=\"white\")\n",
    "\n",
    "\n",
    "# Compute the correlation matrix\n",
    "corr = np.corrcoef(X_.T)\n",
    "corr = pd.DataFrame(corr, index=features, columns=features)\n",
    "\n",
    "# Generate a mask for the upper triangle\n",
    "mask = np.triu(np.ones_like(corr, dtype=bool))\n",
    "\n",
    "# Set up the matplotlib figure\n",
    "f, ax = plt.subplots(figsize=(11, 9))\n",
    "\n",
    "# Generate a custom diverging colormap\n",
    "cmap = sns.diverging_palette(7, 70, as_cmap=True)\n",
    "\n",
    "# Draw the heatmap with the mask and correct aspect ratio\n",
    "sns.heatmap(corr, mask=mask, cmap=cmap, vmax=.3, center=0,\n",
    "            square=True, linewidths=.5, cbar_kws={\"shrink\": .5})"
   ]
  },
  {
   "cell_type": "code",
   "execution_count": null,
   "metadata": {},
   "outputs": [],
   "source": [
    "feature_imp={\n",
    "'aspect': 0.38636324856410287,\n",
    "# 'curvature-plan': 0.022507389222992558,\n",
    "# 'curvature-prof': 0.032563402846718686,\n",
    "'curvature': 0.019680834593444985,\n",
    "'elevation': 0.09614325902426059,\n",
    "'morphology': 0.1658324173616787,\n",
    "'slope': 0.04549242135125633,\n",
    "'tree-cover': 0.23141702703554537}"
   ]
  },
  {
   "cell_type": "code",
   "execution_count": null,
   "metadata": {},
   "outputs": [],
   "source": [
    "np.random.seed(19680801)\n",
    "\n",
    "\n",
    "plt.rcdefaults()\n",
    "fig, ax = plt.subplots()\n",
    "\n",
    "# Example data\n",
    "y_pos = np.arange(len(feature_imp))\n",
    "performance = [val for k,val in feature_imp.items()]\n",
    "\n",
    "ax.barh(y_pos, performance, align='center')\n",
    "ax.set_yticks(y_pos)\n",
    "ax.set_yticklabels(feature_imp.keys())\n",
    "ax.invert_yaxis()  # labels read top-to-bottom\n",
    "#ax.set_xlabel('Performance')\n",
    "#ax.set_title('How fast do you want to go today?')\n"
   ]
  },
  {
   "cell_type": "code",
   "execution_count": null,
   "metadata": {},
   "outputs": [],
   "source": [
    "corr"
   ]
  },
  {
   "cell_type": "code",
   "execution_count": null,
   "metadata": {},
   "outputs": [],
   "source": [
    "from yellowbrick.features.radviz import radviz\n",
    "\n",
    "radviz(pd.DataFrame(X_, columns=features), y, classes=[0, 1], alpha=0.3)"
   ]
  },
  {
   "cell_type": "code",
   "execution_count": null,
   "metadata": {},
   "outputs": [],
   "source": [
    "from sklearn import manifold\n",
    "from sklearn.metrics import euclidean_distances\n",
    "import matplotlib.pyplot as plt\n"
   ]
  },
  {
   "cell_type": "code",
   "execution_count": null,
   "metadata": {},
   "outputs": [],
   "source": [
    "inds = np.random.randint(0, len(y), size=1000)\n",
    "y_=y[inds]"
   ]
  },
  {
   "cell_type": "code",
   "execution_count": null,
   "metadata": {},
   "outputs": [],
   "source": [
    "similarities = euclidean_distances(X_[inds,:-1])"
   ]
  },
  {
   "cell_type": "code",
   "execution_count": null,
   "metadata": {},
   "outputs": [],
   "source": [
    "seed=42\n",
    "mds = manifold.MDS(n_components=2, max_iter=3000, eps=1e-9, random_state=seed,\n",
    "                   dissimilarity=\"precomputed\", n_jobs=-1)\n",
    "pos = mds.fit(similarities).embedding_\n",
    "\n",
    "nmds = manifold.MDS(n_components=2, metric=False, max_iter=3000, eps=1e-12,\n",
    "                    dissimilarity=\"precomputed\", random_state=seed, n_jobs=-1,\n",
    "                    n_init=1)\n",
    "npos = nmds.fit_transform(similarities, init=pos)"
   ]
  },
  {
   "cell_type": "code",
   "execution_count": null,
   "metadata": {},
   "outputs": [],
   "source": [
    "s = 100\n",
    "plt.scatter(npos[y_==0, 0], npos[y_==0, 1], color='darkorange', s=s, lw=0, label='NMDS')\n",
    "plt.scatter(npos[y_==1, 0], npos[y_==1, 1], color='blue', s=s, lw=0, label='NMDS')\n",
    "plt.legend(scatterpoints=1, loc='best', shadow=False)"
   ]
  },
  {
   "cell_type": "code",
   "execution_count": null,
   "metadata": {},
   "outputs": [],
   "source": [
    "s = 100\n",
    "plt.scatter(pos[y_==0, 0], pos[y_==0, 1], color='darkorange', s=s, lw=0, label='MDS')\n",
    "plt.scatter(pos[y_==1, 0], pos[y_==1, 1], color='blue', s=s, lw=0, label='MDS')\n",
    "plt.legend(scatterpoints=1, loc='best', shadow=False)"
   ]
  },
  {
   "cell_type": "markdown",
   "metadata": {},
   "source": [
    "Построим-ка одно деревце решений"
   ]
  },
  {
   "cell_type": "code",
   "execution_count": null,
   "metadata": {},
   "outputs": [],
   "source": [
    "import numpy as np\n",
    "from matplotlib import pyplot as plt\n",
    "\n",
    "from sklearn.model_selection import train_test_split\n",
    "from sklearn.datasets import load_iris\n",
    "from sklearn.tree import DecisionTreeClassifier\n",
    "from sklearn import tree"
   ]
  },
  {
   "cell_type": "code",
   "execution_count": null,
   "metadata": {},
   "outputs": [],
   "source": [
    "X_ = StandardScaler().fit_transform(X[:, :-1])\n",
    "y = y.astype(int)\n",
    "clf = DecisionTreeClassifier(max_depth=5, random_state=0, class_weight='balanced')\n",
    "clf.fit(X[:, :-1], y)"
   ]
  },
  {
   "cell_type": "code",
   "execution_count": null,
   "metadata": {},
   "outputs": [],
   "source": [
    "from sklearn.tree import export_graphviz\n",
    "import pydotplus\n",
    "\n",
    "# Export resulting tree to DOT source code string\n",
    "dot_data = export_graphviz(clf,\n",
    "                           feature_names=features[:-1],\n",
    "                           out_file=None,\n",
    "                           filled=True,\n",
    "                           rounded=True,proportion=True)\n",
    "\n",
    "#Export to pdf\n",
    "pydot_graph = pydotplus.graph_from_dot_data(dot_data)\n",
    "pydot_graph.write_pdf('tree.pdf')"
   ]
  },
  {
   "cell_type": "markdown",
   "metadata": {},
   "source": [
    "Cross-tab between values "
   ]
  },
  {
   "cell_type": "code",
   "execution_count": null,
   "metadata": {},
   "outputs": [],
   "source": [
    "from itertools import combinations\n",
    "\n",
    "#for a, b in combinations(range(len(features)-1), 2):\n",
    "aspect_bins = np.histogram(X[:,0], bins=10)[1]\n",
    "\n",
    "cst = pd.crosstab(np.digitize(X[:,0], aspect_bins), X[:, 5])[:-1]"
   ]
  },
  {
   "cell_type": "code",
   "execution_count": null,
   "metadata": {},
   "outputs": [],
   "source": [
    "print(cst)"
   ]
  },
  {
   "cell_type": "code",
   "execution_count": null,
   "metadata": {},
   "outputs": [],
   "source": [
    "from scipy.stats import chi2_contingency\n",
    "chi2_contingency(cst)"
   ]
  },
  {
   "cell_type": "code",
   "execution_count": null,
   "metadata": {},
   "outputs": [],
   "source": [
    "#features = ['aspect', 'curvature', 'elevation', 'morphology', 'slope', 'tree-cover', 'patches']"
   ]
  },
  {
   "cell_type": "code",
   "execution_count": null,
   "metadata": {},
   "outputs": [],
   "source": [
    "X_.shape"
   ]
  },
  {
   "cell_type": "code",
   "execution_count": null,
   "metadata": {},
   "outputs": [],
   "source": [
    "from matplotlib import pyplot as plt"
   ]
  },
  {
   "cell_type": "code",
   "execution_count": null,
   "metadata": {},
   "outputs": [],
   "source": [
    "df = pd.DataFrame(X_, columns=features)\n",
    "df.morphology = df.morphology.astype(int)\n",
    "df['y'] = y\n",
    "df.y = df.y.map({True: 'W', False: 'F'})\n",
    "#df = df[df['tree-cover'] > 20]"
   ]
  },
  {
   "cell_type": "code",
   "execution_count": null,
   "metadata": {},
   "outputs": [],
   "source": [
    "df"
   ]
  },
  {
   "cell_type": "code",
   "execution_count": null,
   "metadata": {},
   "outputs": [],
   "source": [
    "box_features = ['aspect',  'curvature', 'elevation', 'slope', 'tree-cover']"
   ]
  },
  {
   "cell_type": "code",
   "execution_count": null,
   "metadata": {},
   "outputs": [],
   "source": [
    "for feature in box_features:\n",
    "    plt.figure(figsize=(15,10))\n",
    "    sns.set(font_scale=2)\n",
    "    sns.boxplot(x=\"morphology\", y=feature,\n",
    "                hue=\"y\", palette= [\"#8de5a1\", \"#a1c9f4\"],\n",
    "                data=df, fliersize=0)\n",
    "    plt.legend([],[], frameon=False)\n",
    "    if feature.startswith('curvature'):\n",
    "         plt.gca().set(ylim=(-5, 5))\n",
    "    if feature.startswith('curvature-plan'):\n",
    "         plt.gca().set(ylim=(-3.5, 3.5))\n",
    "    if feature.startswith('curvature-prof'):\n",
    "         plt.gca().set(ylim=(-3.0, 3.0))\n",
    "    if feature.startswith('slope'):\n",
    "         plt.gca().set(ylim=(-5, 45))\n",
    "    if feature.startswith('tree-cover'):\n",
    "         plt.gca().set(ylim=(40, 105))\n",
    "    plt.gcf().savefig(f'{feature}.png', dpi=300)\n",
    "    \n",
    "    "
   ]
  },
  {
   "cell_type": "code",
   "execution_count": null,
   "metadata": {},
   "outputs": [],
   "source": [
    "df['curvature'][(df.morphology == 7)*(df.y == 'F')]"
   ]
  },
  {
   "cell_type": "code",
   "execution_count": null,
   "metadata": {},
   "outputs": [],
   "source": [
    "from scipy import stats as st"
   ]
  },
  {
   "cell_type": "code",
   "execution_count": null,
   "metadata": {},
   "outputs": [],
   "source": [
    "for feature in box_features:\n",
    "    for val in np.unique(df.morphology):\n",
    "        a = df[feature][(df.y=='F')&(df.morphology == val)]\n",
    "        b = df[feature][(df.y=='W')&(df.morphology == val)]\n",
    "        print(f\"{feature}, morphology = {val}: {st.mannwhitneyu(a, b)}\")"
   ]
  },
  {
   "cell_type": "code",
   "execution_count": null,
   "metadata": {},
   "outputs": [],
   "source": [
    "df"
   ]
  },
  {
   "cell_type": "code",
   "execution_count": null,
   "metadata": {},
   "outputs": [],
   "source": [
    "df = pd.DataFrame(X, columns=features)\n",
    "df.morphology = df.morphology.astype(int)\n",
    "df['y'] = y\n",
    "df.y = df.y.map({True: 'W', False: 'F'})\n",
    "df = df[df['tree-cover'] > 20]\n",
    "df['area'] = np.digitize(df['tree-cover'].values, [0, 40, 80, 300])\n"
   ]
  },
  {
   "cell_type": "code",
   "execution_count": null,
   "metadata": {},
   "outputs": [],
   "source": [
    "for feature in box_features:\n",
    "    plt.figure(figsize=(15,10))\n",
    "    sns.set(font_scale=2)\n",
    "    sns.boxplot(x=\"morphology\", y=feature,\n",
    "                hue=\"area\", palette= [\"#8de5a1\", \"#a1c9f4\" , \"coral\"],\n",
    "                data=df, fliersize=0)\n",
    "    plt.legend([],[], frameon=False)\n",
    "    if feature.startswith('curvature'):\n",
    "         plt.gca().set(ylim=(-5, 5))\n",
    "    if feature.startswith('curvature-plan'):\n",
    "         plt.gca().set(ylim=(-3.5, 3.5))\n",
    "    if feature.startswith('curvature-prof'):\n",
    "         plt.gca().set(ylim=(-3.0, 3.0))\n",
    "    if feature.startswith('slope'):\n",
    "         plt.gca().set(ylim=(-5, 45))\n",
    "    if feature.startswith('tree-cover'):\n",
    "         plt.gca().set(ylim=(40, 105))\n",
    "    plt.gcf().savefig(f'{feature}-ss3.png', dpi=300)\n",
    "    "
   ]
  },
  {
   "cell_type": "code",
   "execution_count": null,
   "metadata": {},
   "outputs": [],
   "source": [
    "df"
   ]
  },
  {
   "cell_type": "code",
   "execution_count": null,
   "metadata": {},
   "outputs": [],
   "source": []
  },
  {
   "cell_type": "code",
   "execution_count": null,
   "metadata": {},
   "outputs": [],
   "source": []
  }
 ],
 "metadata": {
  "kernelspec": {
   "display_name": "Python 3",
   "language": "python",
   "name": "python3"
  },
  "language_info": {
   "codemirror_mode": {
    "name": "ipython",
    "version": 3
   },
   "file_extension": ".py",
   "mimetype": "text/x-python",
   "name": "python",
   "nbconvert_exporter": "python",
   "pygments_lexer": "ipython3",
   "version": "3.7.9"
  }
 },
 "nbformat": 4,
 "nbformat_minor": 4
}
