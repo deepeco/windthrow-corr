{
 "cells": [
  {
   "cell_type": "code",
   "execution_count": 1,
   "metadata": {},
   "outputs": [],
   "source": [
    "import numpy as np\n",
    "import pandas as pd\n",
    "from sklearn.preprocessing import StandardScaler\n",
    "\n",
    "\n",
    "from sklearn.tree import DecisionTreeClassifier\n",
    "from sklearn.ensemble import RandomForestClassifier, AdaBoostClassifier\n",
    "from sklearn.naive_bayes import GaussianNB\n",
    "from sklearn.discriminant_analysis import QuadraticDiscriminantAnalysis, LinearDiscriminantAnalysis\n",
    "from sklearn.linear_model import LogisticRegression\n",
    "from sklearn.model_selection import GridSearchCV, cross_val_score\n",
    "from sklearn.metrics import confusion_matrix\n"
   ]
  },
  {
   "cell_type": "code",
   "execution_count": 2,
   "metadata": {},
   "outputs": [],
   "source": [
    "X = np.load('features.npy')\n",
    "y = np.load('group.npy')\n",
    "features = ['aspect', 'curvature-plan', 'curvature-prof', 'curvature', 'elevation', 'morphology', 'slope', 'tree-cover', 'patches']"
   ]
  },
  {
   "cell_type": "code",
   "execution_count": 3,
   "metadata": {},
   "outputs": [],
   "source": [
    "estimators = [\n",
    "    ('rfc', RandomForestClassifier()),\n",
    "#     ('lda', LinearDiscriminantAnalysis()),\n",
    "#     ('qda', QuadraticDiscriminantAnalysis()),\n",
    "#     ('log', LogisticRegression())\n",
    "]\n",
    "\n",
    "params = {\n",
    "    'rfc': {\n",
    "        'n_estimators': [200],\n",
    "        'max_depth': [20],\n",
    "        'min_samples_split': [4000, 2000],\n",
    "        'class_weight': ['balanced_subsample']\n",
    "    },\n",
    "    \n",
    "    'lda': {\n",
    "        'n_components': [2, 4, None]\n",
    "    },\n",
    "    \n",
    "    'qda': {\n",
    "        \n",
    "        \n",
    "    },\n",
    "    \n",
    "    'log': {\n",
    "        'penalty' : ['l1', 'l2'],\n",
    "        'C': [1.0, 0.1, 0.01, 0.001],\n",
    "        'class_weight': ['balanced']\n",
    "    }\n",
    "    \n",
    "}"
   ]
  },
  {
   "cell_type": "code",
   "execution_count": 4,
   "metadata": {},
   "outputs": [],
   "source": [
    "X_ = StandardScaler().fit_transform(X[:, :-1])\n",
    "y = y.astype(int)"
   ]
  },
  {
   "cell_type": "code",
   "execution_count": 20,
   "metadata": {},
   "outputs": [
    {
     "name": "stdout",
     "output_type": "stream",
     "text": [
      "Fitting 5 folds for each of 2 candidates, totalling 10 fits\n"
     ]
    },
    {
     "name": "stderr",
     "output_type": "stream",
     "text": [
      "[Parallel(n_jobs=14)]: Using backend LokyBackend with 14 concurrent workers.\n",
      "[Parallel(n_jobs=14)]: Done   5 out of  10 | elapsed:  8.5min remaining:  8.5min\n",
      "[Parallel(n_jobs=14)]: Done  10 out of  10 | elapsed:  8.9min finished\n"
     ]
    },
    {
     "name": "stdout",
     "output_type": "stream",
     "text": [
      "Resutls for rfc.\n",
      "Balanced accuracy score: 0.691446998224144\n",
      "Confusion matrix: [[607019   5279]\n",
      " [294476  17226]]\n"
     ]
    }
   ],
   "source": [
    "\n",
    "results = dict()\n",
    "for cl_name, clf in estimators:\n",
    "    gcv = GridSearchCV(clf, param_grid=params[cl_name], n_jobs=14, scoring='balanced_accuracy', verbose=1, cv=5)\n",
    "    gcv.fit(X_, y)\n",
    "    print(f\"Resutls for {cl_name}.\")\n",
    "    print(f\"Balanced accuracy score: {gcv.best_score_}\")\n",
    "    print(f\"Confusion matrix: {confusion_matrix(gcv.best_estimator_.predict(X_), y)}\")\n",
    "    results[cl_name] = gcv"
   ]
  },
  {
   "cell_type": "code",
   "execution_count": 21,
   "metadata": {},
   "outputs": [
    {
     "data": {
      "text/plain": [
       "{'class_weight': 'balanced_subsample',\n",
       " 'max_depth': 20,\n",
       " 'min_samples_split': 4000,\n",
       " 'n_estimators': 200}"
      ]
     },
     "execution_count": 21,
     "metadata": {},
     "output_type": "execute_result"
    }
   ],
   "source": [
    "gcv.best_params_"
   ]
  },
  {
   "cell_type": "code",
   "execution_count": 17,
   "metadata": {},
   "outputs": [
    {
     "name": "stdout",
     "output_type": "stream",
     "text": [
      "feature aspect: 0.38636324856410287.\n",
      "feature curvature-plan: 0.022507389222992558.\n",
      "feature curvature-prof: 0.032563402846718686.\n",
      "feature curvature: 0.019680834593444985.\n",
      "feature elevation: 0.09614325902426059.\n",
      "feature morphology: 0.1658324173616787.\n",
      "feature slope: 0.04549242135125633.\n",
      "feature tree-cover: 0.23141702703554537.\n"
     ]
    }
   ],
   "source": [
    "for f, imp in zip(features[:-1], results['rfc'].best_estimator_.feature_importances_):\n",
    "    print(f\"feature {f}: {imp}.\")"
   ]
  },
  {
   "cell_type": "code",
   "execution_count": 4,
   "metadata": {},
   "outputs": [],
   "source": [
    "X_ = StandardScaler().fit_transform(X[:, :-1])\n",
    "y = y.astype(int)"
   ]
  },
  {
   "cell_type": "code",
   "execution_count": 18,
   "metadata": {},
   "outputs": [],
   "source": [
    "features = ['aspect', 'curvature-plan', 'curvature-prof', 'curvature', 'elevation', 'morphology', 'slope', 'tree-cover', 'patches']\n",
    "features = np.array(features[:-1])"
   ]
  },
  {
   "cell_type": "code",
   "execution_count": 21,
   "metadata": {},
   "outputs": [],
   "source": [
    "n_features = len(features)"
   ]
  },
  {
   "cell_type": "code",
   "execution_count": 22,
   "metadata": {},
   "outputs": [
    {
     "data": {
      "text/plain": [
       "8"
      ]
     },
     "execution_count": 22,
     "metadata": {},
     "output_type": "execute_result"
    }
   ],
   "source": [
    "n_features"
   ]
  },
  {
   "cell_type": "code",
   "execution_count": 24,
   "metadata": {},
   "outputs": [
    {
     "name": "stdout",
     "output_type": "stream",
     "text": [
      "2\n",
      "3\n",
      "4\n",
      "5\n",
      "6\n",
      "7\n",
      "8\n",
      "9\n",
      "10\n",
      "11\n",
      "12\n",
      "13\n",
      "14\n",
      "15\n",
      "16\n",
      "17\n",
      "18\n",
      "19\n",
      "20\n",
      "21\n",
      "22\n",
      "23\n",
      "24\n",
      "25\n",
      "26\n",
      "27\n",
      "28\n",
      "29\n",
      "30\n",
      "31\n",
      "32\n",
      "33\n",
      "34\n",
      "35\n",
      "36\n",
      "37\n",
      "38\n",
      "39\n",
      "40\n",
      "41\n",
      "42\n",
      "43\n",
      "44\n",
      "45\n",
      "46\n",
      "47\n",
      "48\n",
      "49\n",
      "50\n",
      "51\n",
      "52\n",
      "53\n",
      "54\n",
      "55\n",
      "56\n",
      "57\n",
      "58\n",
      "59\n",
      "60\n",
      "61\n",
      "62\n",
      "63\n",
      "64\n",
      "65\n",
      "66\n",
      "67\n",
      "68\n",
      "69\n",
      "70\n",
      "71\n",
      "72\n",
      "73\n",
      "74\n",
      "75\n",
      "76\n",
      "77\n",
      "78\n",
      "79\n",
      "80\n",
      "81\n",
      "82\n",
      "83\n",
      "84\n",
      "85\n",
      "86\n",
      "87\n",
      "88\n",
      "89\n",
      "90\n",
      "91\n",
      "92\n",
      "93\n",
      "94\n",
      "95\n",
      "96\n",
      "97\n",
      "98\n",
      "99\n",
      "100\n",
      "101\n",
      "102\n",
      "103\n",
      "104\n",
      "105\n",
      "106\n",
      "107\n",
      "108\n",
      "109\n",
      "110\n",
      "111\n",
      "112\n",
      "113\n",
      "114\n",
      "115\n",
      "116\n",
      "117\n",
      "118\n",
      "119\n",
      "120\n",
      "121\n",
      "122\n",
      "123\n",
      "124\n",
      "125\n",
      "126\n",
      "127\n",
      "128\n",
      "129\n",
      "130\n",
      "131\n",
      "132\n",
      "133\n",
      "134\n",
      "135\n",
      "136\n",
      "137\n",
      "138\n",
      "139\n",
      "140\n",
      "141\n",
      "142\n",
      "143\n",
      "144\n",
      "145\n",
      "146\n",
      "147\n",
      "148\n",
      "149\n",
      "150\n",
      "151\n",
      "152\n",
      "153\n",
      "154\n",
      "155\n",
      "156\n",
      "157\n",
      "158\n",
      "159\n",
      "160\n",
      "161\n",
      "162\n",
      "163\n",
      "164\n",
      "165\n",
      "166\n",
      "167\n",
      "168\n",
      "169\n",
      "170\n",
      "171\n",
      "172\n",
      "173\n",
      "174\n",
      "175\n",
      "176\n",
      "177\n",
      "178\n",
      "179\n",
      "180\n",
      "181\n",
      "182\n",
      "183\n",
      "184\n",
      "185\n",
      "186\n",
      "187\n",
      "188\n",
      "189\n",
      "190\n",
      "191\n",
      "192\n",
      "193\n",
      "194\n",
      "195\n",
      "196\n",
      "197\n",
      "198\n",
      "199\n",
      "200\n",
      "201\n",
      "202\n",
      "203\n",
      "204\n",
      "205\n",
      "206\n",
      "207\n",
      "208\n",
      "209\n",
      "210\n",
      "211\n",
      "212\n",
      "213\n",
      "214\n",
      "215\n",
      "216\n",
      "217\n",
      "218\n",
      "219\n",
      "220\n",
      "221\n",
      "222\n",
      "223\n",
      "224\n",
      "225\n",
      "226\n",
      "227\n",
      "228\n",
      "229\n",
      "230\n",
      "231\n",
      "232\n",
      "233\n",
      "234\n",
      "235\n",
      "236\n",
      "237\n",
      "238\n",
      "239\n",
      "240\n",
      "241\n",
      "242\n",
      "243\n",
      "244\n",
      "245\n",
      "246\n",
      "247\n",
      "248\n",
      "249\n",
      "250\n",
      "251\n",
      "252\n",
      "253\n",
      "254\n"
     ]
    }
   ],
   "source": [
    "results = []\n",
    "clf = RandomForestClassifier(**{'class_weight': 'balanced_subsample',\n",
    " 'max_depth': 20,\n",
    " 'min_samples_split': 4000,\n",
    " 'n_estimators': 10})\n",
    "for j in range(2, 2 ** n_features - 1):\n",
    "    print(j)\n",
    "    mask = np.array(list(format(j, f'#0{n_features + 2}b')[2:]), dtype=int).astype(bool)\n",
    "    if sum(mask) > 2:\n",
    "        errors = cross_val_score(clf, X_[:, mask], y, n_jobs=14,scoring='balanced_accuracy')\n",
    "        results.append((mask, errors))\n",
    "        # print(f\"Trying features {np.array(features)[mask]}: mean={errors.mean()}, std={errors.std()}.\")"
   ]
  },
  {
   "cell_type": "code",
   "execution_count": 16,
   "metadata": {},
   "outputs": [
    {
     "data": {
      "text/plain": [
       "array(['aspect', 'curvature-plan', 'curvature-prof', 'curvature',\n",
       "       'elevation', 'morphology', 'slope', 'tree-cover'], dtype='<U14')"
      ]
     },
     "execution_count": 16,
     "metadata": {},
     "output_type": "execute_result"
    }
   ],
   "source": [
    "features  "
   ]
  },
  {
   "cell_type": "code",
   "execution_count": 34,
   "metadata": {},
   "outputs": [
    {
     "name": "stdout",
     "output_type": "stream",
     "text": [
      "['aspect' 'curvature-prof' 'curvature' 'morphology' 'slope' 'tree-cover'] 0.6930056688191624\n",
      "['aspect' 'curvature-plan' 'curvature-prof' 'morphology' 'tree-cover'] 0.6928503746804482\n",
      "['aspect' 'curvature-plan' 'curvature-prof' 'morphology' 'slope'\n",
      " 'tree-cover'] 0.6927214847546701\n",
      "['aspect' 'curvature-plan' 'curvature' 'morphology' 'slope' 'tree-cover'] 0.6926318970914196\n",
      "['aspect' 'curvature-prof' 'curvature' 'morphology' 'tree-cover'] 0.6923803562282066\n",
      "['aspect' 'curvature-plan' 'curvature-prof' 'curvature' 'morphology'\n",
      " 'slope' 'tree-cover'] 0.6918510531542572\n",
      "['aspect' 'curvature-plan' 'curvature-prof' 'curvature' 'morphology'\n",
      " 'tree-cover'] 0.6917762646508296\n",
      "['aspect' 'curvature-prof' 'morphology' 'slope' 'tree-cover'] 0.6912668145501557\n",
      "['aspect' 'curvature' 'morphology' 'slope' 'tree-cover'] 0.6910195753370004\n",
      "['aspect' 'curvature-plan' 'curvature' 'morphology' 'tree-cover'] 0.6908122180352272\n",
      "['aspect' 'curvature-prof' 'morphology' 'tree-cover'] 0.690474142153551\n",
      "['aspect' 'curvature-plan' 'curvature' 'elevation' 'morphology' 'slope'\n",
      " 'tree-cover'] 0.6900102117394299\n",
      "['aspect' 'curvature-prof' 'curvature' 'elevation' 'morphology' 'slope'\n",
      " 'tree-cover'] 0.6898942690298869\n",
      "['aspect' 'curvature' 'elevation' 'morphology' 'slope' 'tree-cover'] 0.6893954130471212\n",
      "['aspect' 'curvature-plan' 'curvature' 'elevation' 'morphology'\n",
      " 'tree-cover'] 0.6891924928193195\n",
      "['aspect' 'curvature-plan' 'morphology' 'tree-cover'] 0.6889841754741306\n",
      "['aspect' 'curvature-plan' 'curvature-prof' 'elevation' 'morphology'\n",
      " 'slope' 'tree-cover'] 0.6888475146308934\n",
      "['aspect' 'curvature-prof' 'curvature' 'elevation' 'morphology'\n",
      " 'tree-cover'] 0.6887119121643599\n",
      "['aspect' 'curvature' 'morphology' 'tree-cover'] 0.6882799417939391\n",
      "['aspect' 'curvature-prof' 'elevation' 'morphology' 'slope' 'tree-cover'] 0.6878553938616065\n",
      "['aspect' 'curvature-plan' 'curvature-prof' 'curvature' 'elevation'\n",
      " 'morphology' 'tree-cover'] 0.687854715879464\n",
      "['aspect' 'curvature-plan' 'morphology' 'slope' 'tree-cover'] 0.6876068521636735\n",
      "['aspect' 'curvature-plan' 'elevation' 'morphology' 'slope' 'tree-cover'] 0.6873154552662595\n",
      "['aspect' 'curvature-plan' 'curvature-prof' 'elevation' 'morphology'\n",
      " 'tree-cover'] 0.687213622520952\n",
      "['aspect' 'curvature' 'elevation' 'morphology' 'tree-cover'] 0.6871364395157078\n",
      "['aspect' 'curvature-prof' 'elevation' 'morphology' 'tree-cover'] 0.6870527216596845\n",
      "['aspect' 'morphology' 'slope' 'tree-cover'] 0.6865214001656156\n",
      "['aspect' 'morphology' 'tree-cover'] 0.6864755725406088\n",
      "['aspect' 'curvature-plan' 'elevation' 'morphology' 'tree-cover'] 0.6853073644550887\n",
      "['aspect' 'elevation' 'morphology' 'slope' 'tree-cover'] 0.6852124978469106\n",
      "['aspect' 'elevation' 'morphology' 'tree-cover'] 0.6818920466630785\n",
      "['aspect' 'curvature-prof' 'curvature' 'slope' 'tree-cover'] 0.6810490310733794\n",
      "['aspect' 'curvature-plan' 'curvature' 'slope' 'tree-cover'] 0.680621368391025\n",
      "['aspect' 'curvature-plan' 'curvature-prof' 'curvature' 'slope'\n",
      " 'tree-cover'] 0.6805572343855947\n",
      "['aspect' 'curvature-plan' 'curvature-prof' 'slope' 'tree-cover'] 0.6803780478456483\n",
      "['aspect' 'curvature-plan' 'curvature-prof' 'curvature' 'tree-cover'] 0.6782910816615948\n",
      "['aspect' 'curvature' 'tree-cover'] 0.6782197598378509\n",
      "['aspect' 'curvature-prof' 'tree-cover'] 0.6780047860191318\n",
      "['aspect' 'curvature-plan' 'curvature-prof' 'curvature' 'elevation'\n",
      " 'slope' 'tree-cover'] 0.677642861727431\n",
      "['aspect' 'curvature-plan' 'curvature' 'tree-cover'] 0.677421902516743\n",
      "['aspect' 'curvature-prof' 'slope' 'tree-cover'] 0.6773003116811569\n",
      "['aspect' 'curvature-plan' 'slope' 'tree-cover'] 0.6772464716183348\n",
      "['aspect' 'curvature' 'slope' 'tree-cover'] 0.6767624596491726\n",
      "['aspect' 'curvature-prof' 'curvature' 'tree-cover'] 0.6761311573533844\n",
      "['aspect' 'curvature-plan' 'curvature-prof' 'tree-cover'] 0.676059130807744\n",
      "['aspect' 'curvature-plan' 'tree-cover'] 0.675996727123151\n",
      "['aspect' 'curvature-plan' 'curvature-prof' 'elevation' 'slope'\n",
      " 'tree-cover'] 0.6758437602055828\n",
      "['aspect' 'curvature-plan' 'curvature-prof' 'curvature' 'elevation'\n",
      " 'tree-cover'] 0.6757122911874303\n",
      "['aspect' 'curvature-plan' 'curvature' 'elevation' 'slope' 'tree-cover'] 0.6757083293910167\n",
      "['aspect' 'curvature-prof' 'curvature' 'elevation' 'slope' 'tree-cover'] 0.6748933646655392\n",
      "['aspect' 'curvature-plan' 'curvature-prof' 'elevation' 'tree-cover'] 0.674493800288905\n",
      "['aspect' 'curvature-plan' 'curvature' 'elevation' 'tree-cover'] 0.6742088778621811\n",
      "['aspect' 'curvature' 'elevation' 'slope' 'tree-cover'] 0.6735919813930648\n",
      "['aspect' 'curvature-prof' 'elevation' 'slope' 'tree-cover'] 0.6734644396684177\n",
      "['aspect' 'curvature-prof' 'curvature' 'elevation' 'tree-cover'] 0.6733199466650598\n",
      "['aspect' 'slope' 'tree-cover'] 0.6725531212594266\n",
      "['aspect' 'curvature' 'elevation' 'tree-cover'] 0.6725125863805101\n",
      "['aspect' 'curvature-prof' 'elevation' 'tree-cover'] 0.6719274877914263\n",
      "['aspect' 'curvature-plan' 'elevation' 'slope' 'tree-cover'] 0.6703898432685564\n",
      "['aspect' 'curvature-plan' 'elevation' 'tree-cover'] 0.6702465673552789\n",
      "['aspect' 'elevation' 'tree-cover'] 0.6695841063458292\n",
      "['aspect' 'elevation' 'slope' 'tree-cover'] 0.6645834230588644\n",
      "['aspect' 'curvature-plan' 'curvature-prof' 'curvature' 'elevation'\n",
      " 'morphology'] 0.6621570569440394\n",
      "['aspect' 'curvature-prof' 'curvature' 'elevation' 'morphology' 'slope'] 0.6604333183990372\n",
      "['aspect' 'curvature-prof' 'curvature' 'elevation' 'morphology'] 0.6598294761051706\n",
      "['aspect' 'curvature-plan' 'curvature' 'elevation' 'morphology'] 0.6591955343369189\n",
      "['aspect' 'curvature-plan' 'curvature-prof' 'curvature' 'elevation'\n",
      " 'morphology' 'slope'] 0.6590326202309681\n",
      "['aspect' 'curvature-plan' 'curvature-prof' 'elevation' 'morphology'] 0.658958689124805\n",
      "['aspect' 'curvature-plan' 'curvature-prof' 'elevation' 'morphology'\n",
      " 'slope'] 0.6587977744623741\n",
      "['aspect' 'curvature-plan' 'curvature-prof' 'morphology' 'slope'] 0.6587951462033557\n",
      "['aspect' 'curvature-prof' 'elevation' 'morphology' 'slope'] 0.6587682744760158\n",
      "['aspect' 'curvature-plan' 'curvature-prof' 'curvature' 'morphology'\n",
      " 'slope'] 0.6587393636268117\n",
      "['aspect' 'curvature-plan' 'curvature' 'morphology'] 0.6583549046233095\n",
      "['aspect' 'curvature' 'elevation' 'morphology'] 0.658334365904737\n",
      "['aspect' 'curvature-prof' 'curvature' 'morphology' 'slope'] 0.6580263869097277\n",
      "['aspect' 'curvature' 'morphology'] 0.6579846047506865\n",
      "['aspect' 'curvature' 'elevation' 'morphology' 'slope'] 0.6575510921002772\n",
      "['aspect' 'curvature-plan' 'curvature-prof' 'curvature' 'morphology'] 0.6574716569177118\n",
      "['aspect' 'curvature-prof' 'curvature' 'morphology'] 0.6572426274768375\n",
      "['aspect' 'curvature-prof' 'elevation' 'morphology'] 0.6572349859452835\n",
      "['aspect' 'curvature-plan' 'curvature' 'elevation' 'morphology' 'slope'] 0.6572315356544813\n",
      "['aspect' 'curvature-plan' 'curvature' 'morphology' 'slope'] 0.6569061378663575\n",
      "['aspect' 'curvature' 'morphology' 'slope'] 0.6567983550945617\n",
      "['aspect' 'curvature-prof' 'morphology' 'slope'] 0.6564994788292615\n",
      "['aspect' 'curvature-prof' 'morphology'] 0.6562989953693389\n",
      "['aspect' 'morphology' 'slope'] 0.6558467148621112\n",
      "['aspect' 'elevation' 'morphology'] 0.6557526961628979\n",
      "['aspect' 'curvature-plan' 'curvature-prof' 'morphology'] 0.6555444624872611\n",
      "['aspect' 'curvature-plan' 'morphology' 'slope'] 0.6550046412018011\n",
      "['aspect' 'curvature-plan' 'elevation' 'morphology'] 0.654547779570961\n",
      "['aspect' 'curvature-plan' 'elevation' 'morphology' 'slope'] 0.6540267477066369\n",
      "['aspect' 'curvature-plan' 'morphology'] 0.6533138796737131\n",
      "['aspect' 'elevation' 'morphology' 'slope'] 0.6510115256360445\n",
      "['aspect' 'curvature-plan' 'curvature-prof' 'slope'] 0.6422856366886742\n",
      "['aspect' 'curvature-prof' 'curvature' 'slope'] 0.6417960016080769\n",
      "['aspect' 'curvature-plan' 'curvature-prof' 'curvature' 'slope'] 0.6416817478158819\n",
      "['aspect' 'curvature-plan' 'curvature' 'slope'] 0.6413310671593326\n",
      "['aspect' 'curvature-plan' 'curvature-prof' 'curvature' 'elevation'\n",
      " 'slope'] 0.6393510220369469\n",
      "['aspect' 'curvature-plan' 'curvature-prof' 'curvature' 'elevation'] 0.6390947163221362\n",
      "['aspect' 'curvature-prof' 'curvature' 'elevation'] 0.6390134438597188\n",
      "['aspect' 'curvature-prof' 'curvature'] 0.6390064751348712\n",
      "['aspect' 'curvature-plan' 'curvature-prof' 'elevation' 'slope'] 0.6389398784843807\n",
      "['aspect' 'curvature' 'slope'] 0.6389300736204937\n",
      "['aspect' 'curvature-prof' 'slope'] 0.6387761018057295\n",
      "['aspect' 'curvature-plan' 'curvature' 'elevation'] 0.6383557080235228\n",
      "['aspect' 'curvature' 'elevation'] 0.6382984866757144\n",
      "['aspect' 'curvature-plan' 'curvature-prof' 'elevation'] 0.6374887198133303\n",
      "['aspect' 'curvature-plan' 'curvature'] 0.6372310564090891\n",
      "['aspect' 'curvature-plan' 'curvature' 'elevation' 'slope'] 0.6371505809638467\n",
      "['aspect' 'curvature-prof' 'curvature' 'elevation' 'slope'] 0.6366965071679749\n",
      "['curvature' 'morphology' 'tree-cover'] 0.6360904946411937\n",
      "['aspect' 'curvature-plan' 'curvature-prof' 'curvature'] 0.6360082733488058\n",
      "['aspect' 'curvature-plan' 'curvature-prof'] 0.6356881890085173\n",
      "['curvature-plan' 'curvature' 'morphology' 'tree-cover'] 0.6355795936932376\n",
      "['aspect' 'curvature-prof' 'elevation' 'slope'] 0.635188225482404\n",
      "['aspect' 'curvature-prof' 'elevation'] 0.6350946259935231\n",
      "['aspect' 'curvature-plan' 'slope'] 0.6350082220861102\n",
      "['curvature-plan' 'curvature' 'morphology' 'slope' 'tree-cover'] 0.634969512411028\n",
      "['curvature-plan' 'morphology' 'tree-cover'] 0.634862315326096\n",
      "['curvature-plan' 'curvature-prof' 'morphology' 'tree-cover'] 0.6344691848792351\n",
      "['curvature-prof' 'curvature' 'morphology' 'tree-cover'] 0.6342492693815147\n",
      "['curvature-plan' 'curvature-prof' 'morphology' 'slope' 'tree-cover'] 0.6339291436377368\n",
      "['curvature-plan' 'curvature-prof' 'curvature' 'morphology' 'slope'\n",
      " 'tree-cover'] 0.6338967221176415\n",
      "['morphology' 'slope' 'tree-cover'] 0.6332564257763049\n",
      "['curvature' 'morphology' 'slope' 'tree-cover'] 0.6329191063708869\n",
      "['curvature-plan' 'curvature' 'elevation' 'morphology' 'tree-cover'] 0.6328196638145326\n",
      "['curvature-plan' 'curvature-prof' 'curvature' 'morphology' 'tree-cover'] 0.6327662412368975\n",
      "['aspect' 'curvature-plan' 'elevation'] 0.6327270761234296\n",
      "['curvature-plan' 'morphology' 'slope' 'tree-cover'] 0.6322657601671638\n",
      "['aspect' 'curvature' 'elevation' 'slope'] 0.6322031727545855\n",
      "['curvature-prof' 'morphology' 'tree-cover'] 0.6321913606840243\n",
      "['curvature-plan' 'curvature-prof' 'elevation' 'morphology' 'tree-cover'] 0.6319353025275787\n",
      "['curvature-prof' 'curvature' 'elevation' 'morphology' 'tree-cover'] 0.6318550711904107\n",
      "['curvature-prof' 'curvature' 'morphology' 'slope' 'tree-cover'] 0.6317360956752529\n",
      "['curvature-plan' 'curvature-prof' 'curvature' 'elevation' 'morphology'\n",
      " 'tree-cover'] 0.6317061022973097\n",
      "['curvature' 'elevation' 'morphology' 'tree-cover'] 0.6316105447683986\n",
      "['curvature-plan' 'curvature-prof' 'curvature' 'elevation' 'morphology'\n",
      " 'slope' 'tree-cover'] 0.6308142556044605\n",
      "['curvature-prof' 'morphology' 'slope' 'tree-cover'] 0.6306800651694376\n",
      "['curvature-plan' 'curvature' 'elevation' 'morphology' 'slope'\n",
      " 'tree-cover'] 0.6297684103570933\n",
      "['curvature-prof' 'curvature' 'elevation' 'morphology' 'slope'\n",
      " 'tree-cover'] 0.6295726572458603\n",
      "['elevation' 'morphology' 'tree-cover'] 0.6294880949311631\n",
      "['curvature-plan' 'curvature-prof' 'elevation' 'morphology' 'slope'\n",
      " 'tree-cover'] 0.6291507280842467\n",
      "['curvature-plan' 'elevation' 'morphology' 'tree-cover'] 0.6291051600936226\n",
      "['aspect' 'curvature-plan' 'elevation' 'slope'] 0.6286577203443904\n",
      "['curvature-prof' 'elevation' 'morphology' 'tree-cover'] 0.628392363654233\n",
      "['curvature' 'elevation' 'morphology' 'slope' 'tree-cover'] 0.6282512226083894\n",
      "['aspect' 'elevation' 'slope'] 0.6271357711943795\n",
      "['curvature-plan' 'elevation' 'morphology' 'slope' 'tree-cover'] 0.6269854765270377\n",
      "['curvature-prof' 'elevation' 'morphology' 'slope' 'tree-cover'] 0.6265645212100027\n",
      "['elevation' 'morphology' 'slope' 'tree-cover'] 0.6246391347319322\n",
      "['curvature-prof' 'curvature' 'tree-cover'] 0.6021257560783967\n",
      "['curvature-plan' 'curvature' 'tree-cover'] 0.6003077305740714\n",
      "['curvature-prof' 'curvature' 'slope' 'tree-cover'] 0.6001595043560656\n",
      "['curvature-plan' 'curvature' 'slope' 'tree-cover'] 0.5994394338410921\n",
      "['curvature' 'slope' 'tree-cover'] 0.5994232036731588\n",
      "['curvature-plan' 'curvature-prof' 'tree-cover'] 0.5990511829679983\n",
      "['curvature' 'elevation' 'tree-cover'] 0.5982179817304859\n",
      "['curvature-plan' 'curvature-prof' 'curvature' 'slope' 'tree-cover'] 0.5976306559786894\n",
      "['curvature-plan' 'curvature-prof' 'curvature' 'tree-cover'] 0.5967275285600624\n",
      "['curvature-plan' 'curvature-prof' 'slope' 'tree-cover'] 0.5959872048380805\n",
      "['curvature-prof' 'slope' 'tree-cover'] 0.5958253741234418\n",
      "['curvature-plan' 'slope' 'tree-cover'] 0.5951494845821901\n",
      "['curvature-plan' 'curvature' 'elevation' 'tree-cover'] 0.5942459388158035\n",
      "['curvature-plan' 'curvature-prof' 'curvature' 'elevation' 'slope'\n",
      " 'tree-cover'] 0.5941429968020031\n",
      "['curvature-prof' 'elevation' 'tree-cover'] 0.5930826016783233\n",
      "['curvature-prof' 'curvature' 'elevation' 'tree-cover'] 0.5927890233345495\n",
      "['curvature-plan' 'curvature' 'elevation' 'slope' 'tree-cover'] 0.5926985825868981\n",
      "['curvature-plan' 'curvature-prof' 'curvature' 'elevation' 'tree-cover'] 0.5922615023357994\n",
      "['curvature-plan' 'curvature-prof' 'elevation' 'tree-cover'] 0.5921837586582999\n",
      "['curvature' 'elevation' 'slope' 'tree-cover'] 0.5921371892207705\n",
      "['curvature-prof' 'curvature' 'elevation' 'slope' 'tree-cover'] 0.5913348965508366\n",
      "['curvature' 'elevation' 'morphology'] 0.5906546501548745\n",
      "['curvature-plan' 'curvature-prof' 'elevation' 'slope' 'tree-cover'] 0.5904513659213932\n",
      "['curvature-plan' 'curvature' 'elevation' 'morphology'] 0.5899761280417408\n",
      "['curvature-plan' 'elevation' 'tree-cover'] 0.5896509079435933\n",
      "['curvature-plan' 'curvature-prof' 'curvature' 'elevation' 'morphology'] 0.5876334823706573\n",
      "['curvature-plan' 'curvature-prof' 'elevation' 'morphology'] 0.5871715082714208\n",
      "['curvature-prof' 'elevation' 'morphology'] 0.586924746060969\n",
      "['curvature-plan' 'curvature-prof' 'curvature' 'elevation' 'morphology'\n",
      " 'slope'] 0.5868871215023443\n",
      "['curvature-prof' 'curvature' 'elevation' 'morphology'] 0.5864779989576153\n",
      "['curvature-plan' 'elevation' 'morphology'] 0.5858878474176519\n",
      "['curvature-plan' 'curvature' 'elevation' 'morphology' 'slope'] 0.5857253188816983\n",
      "['curvature-prof' 'elevation' 'slope' 'tree-cover'] 0.5850647400058813\n",
      "['curvature' 'elevation' 'morphology' 'slope'] 0.5847033548221183\n",
      "['curvature-plan' 'elevation' 'slope' 'tree-cover'] 0.5844366620068477\n",
      "['curvature-prof' 'curvature' 'elevation' 'morphology' 'slope'] 0.5838949741140638\n",
      "['curvature-plan' 'curvature-prof' 'elevation' 'morphology' 'slope'] 0.5833817511203978\n",
      "['curvature-prof' 'curvature' 'morphology'] 0.5821965796801489\n",
      "['curvature-prof' 'morphology' 'slope'] 0.5819379881476817\n",
      "['curvature-plan' 'curvature' 'morphology'] 0.5819060833086344\n",
      "['curvature-plan' 'curvature' 'morphology' 'slope'] 0.5817279146044745\n",
      "['curvature-plan' 'elevation' 'morphology' 'slope'] 0.5816539058667684\n",
      "['curvature' 'morphology' 'slope'] 0.5810483401526463\n",
      "['curvature-prof' 'curvature' 'morphology' 'slope'] 0.5806301217787903\n",
      "['curvature-prof' 'elevation' 'morphology' 'slope'] 0.5803921923127917\n",
      "['curvature-plan' 'curvature-prof' 'curvature' 'morphology' 'slope'] 0.5803652791819622\n",
      "['curvature-plan' 'curvature-prof' 'morphology' 'slope'] 0.5801083282627716\n",
      "['curvature-plan' 'curvature-prof' 'curvature' 'morphology'] 0.5793871019003797\n",
      "['curvature-plan' 'curvature-prof' 'morphology'] 0.5790701348978309\n",
      "['curvature-plan' 'morphology' 'slope'] 0.5779176256354605\n",
      "['elevation' 'morphology' 'slope'] 0.5767024409780964\n",
      "['elevation' 'slope' 'tree-cover'] 0.5743303436247256\n",
      "['curvature-plan' 'curvature-prof' 'elevation'] 0.5428029318880594\n",
      "['curvature-plan' 'curvature' 'elevation'] 0.5426853804804301\n",
      "['curvature-prof' 'curvature' 'elevation'] 0.5425165111725548\n",
      "['curvature-prof' 'curvature' 'elevation' 'slope'] 0.541965747289816\n",
      "['curvature-plan' 'curvature-prof' 'curvature' 'elevation' 'slope'] 0.5406194403685249\n",
      "['curvature-plan' 'curvature' 'elevation' 'slope'] 0.5406174806033492\n",
      "['curvature-plan' 'curvature-prof' 'slope'] 0.5401203644297203\n",
      "['curvature-prof' 'curvature' 'slope'] 0.5401105466272428\n",
      "['curvature' 'elevation' 'slope'] 0.5400216119315265\n",
      "['curvature-plan' 'curvature-prof' 'curvature' 'elevation'] 0.5399281840946132\n",
      "['curvature-plan' 'curvature-prof' 'elevation' 'slope'] 0.5399019325570449\n",
      "['curvature-prof' 'elevation' 'slope'] 0.5388316480373534\n",
      "['curvature-plan' 'curvature' 'slope'] 0.5385828096144113\n",
      "['curvature-plan' 'curvature-prof' 'curvature' 'slope'] 0.5381343287399296\n",
      "['curvature-plan' 'curvature-prof' 'curvature'] 0.5345215792702113\n",
      "['curvature-plan' 'elevation' 'slope'] 0.5280329994783074\n"
     ]
    }
   ],
   "source": [
    "for ffs, vals in sorted(results, key=lambda x: x[1].mean(), reverse=True):\n",
    "    print(features[ffs], vals.mean())"
   ]
  },
  {
   "cell_type": "code",
   "execution_count": 32,
   "metadata": {},
   "outputs": [
    {
     "data": {
      "text/plain": [
       "array([0.68564661, 0.70769145, 0.70991884, 0.70607182, 0.63990373])"
      ]
     },
     "execution_count": 32,
     "metadata": {},
     "output_type": "execute_result"
    }
   ],
   "source": [
    "cross_val_score(clf, X_, y, n_jobs=14,scoring='balanced_accuracy')"
   ]
  },
  {
   "cell_type": "code",
   "execution_count": 41,
   "metadata": {},
   "outputs": [],
   "source": [
    "comm = []\n",
    "for ffs, vals in filter(lambda x: x[1].mean()>0.69,results):\n",
    "    comm.append(features[ffs].tolist())"
   ]
  },
  {
   "cell_type": "code",
   "execution_count": 45,
   "metadata": {},
   "outputs": [],
   "source": [
    "from functools import reduce"
   ]
  },
  {
   "cell_type": "code",
   "execution_count": 46,
   "metadata": {},
   "outputs": [
    {
     "data": {
      "text/plain": [
       "{'aspect', 'morphology', 'tree-cover'}"
      ]
     },
     "execution_count": 46,
     "metadata": {},
     "output_type": "execute_result"
    }
   ],
   "source": [
    "reduce(lambda x, y: x.intersection(y), map(set, comm))"
   ]
  },
  {
   "cell_type": "markdown",
   "metadata": {},
   "source": [
    "{'aspect', 'morphology', 'tree-cover'} -- эти предикторы всегда были в лучших результатах. Они обязательно должны быть, чтобы попытка угадать упадет ли лес в данной точке была хотя бы немного успешной... фактически это общие предикторы для все лучших случаев, т.е. тех случаев, у которых средняя точность, вычисленная по пяти случайным разбиением исходных данных на тестовую и проверочную, оказалась выше 0.69. "
   ]
  },
  {
   "cell_type": "code",
   "execution_count": 57,
   "metadata": {},
   "outputs": [
    {
     "data": {
      "text/plain": [
       "<AxesSubplot:>"
      ]
     },
     "execution_count": 57,
     "metadata": {},
     "output_type": "execute_result"
    },
    {
     "data": {
      "image/png": "[encoded data removed]",
      "text/plain": [
       "<Figure size 792x648 with 2 Axes>"
      ]
     },
     "metadata": {},
     "output_type": "display_data"
    }
   ],
   "source": [
    "import numpy as np\n",
    "import pandas as pd\n",
    "import seaborn as sns\n",
    "import matplotlib.pyplot as plt\n",
    "\n",
    "sns.set_theme(style=\"white\")\n",
    "\n",
    "\n",
    "# Compute the correlation matrix\n",
    "corr = np.corrcoef(X_.T)\n",
    "corr = pd.DataFrame(corr, index=features, columns=features)\n",
    "\n",
    "# Generate a mask for the upper triangle\n",
    "mask = np.triu(np.ones_like(corr, dtype=bool))\n",
    "\n",
    "# Set up the matplotlib figure\n",
    "f, ax = plt.subplots(figsize=(11, 9))\n",
    "\n",
    "# Generate a custom diverging colormap\n",
    "cmap = sns.diverging_palette(7, 70, as_cmap=True)\n",
    "\n",
    "# Draw the heatmap with the mask and correct aspect ratio\n",
    "sns.heatmap(corr, mask=mask, cmap=cmap, vmax=.3, center=0,\n",
    "            square=True, linewidths=.5, cbar_kws={\"shrink\": .5})"
   ]
  },
  {
   "cell_type": "code",
   "execution_count": 58,
   "metadata": {},
   "outputs": [
    {
     "data": {
      "text/html": [
       "<div>\n",
       "<style scoped>\n",
       "    .dataframe tbody tr th:only-of-type {\n",
       "        vertical-align: middle;\n",
       "    }\n",
       "\n",
       "    .dataframe tbody tr th {\n",
       "        vertical-align: top;\n",
       "    }\n",
       "\n",
       "    .dataframe thead th {\n",
       "        text-align: right;\n",
       "    }\n",
       "</style>\n",
       "<table border=\"1\" class=\"dataframe\">\n",
       "  <thead>\n",
       "    <tr style=\"text-align: right;\">\n",
       "      <th></th>\n",
       "      <th>aspect</th>\n",
       "      <th>curvature-plan</th>\n",
       "      <th>curvature-prof</th>\n",
       "      <th>curvature</th>\n",
       "      <th>elevation</th>\n",
       "      <th>morphology</th>\n",
       "      <th>slope</th>\n",
       "      <th>tree-cover</th>\n",
       "    </tr>\n",
       "  </thead>\n",
       "  <tbody>\n",
       "    <tr>\n",
       "      <th>aspect</th>\n",
       "      <td>1.000000</td>\n",
       "      <td>0.004640</td>\n",
       "      <td>-0.001803</td>\n",
       "      <td>-0.003980</td>\n",
       "      <td>-0.051151</td>\n",
       "      <td>0.087932</td>\n",
       "      <td>-0.051647</td>\n",
       "      <td>0.085936</td>\n",
       "    </tr>\n",
       "    <tr>\n",
       "      <th>curvature-plan</th>\n",
       "      <td>0.004640</td>\n",
       "      <td>1.000000</td>\n",
       "      <td>-0.469243</td>\n",
       "      <td>-0.895673</td>\n",
       "      <td>-0.105481</td>\n",
       "      <td>0.234606</td>\n",
       "      <td>-0.010547</td>\n",
       "      <td>0.009505</td>\n",
       "    </tr>\n",
       "    <tr>\n",
       "      <th>curvature-prof</th>\n",
       "      <td>-0.001803</td>\n",
       "      <td>-0.469243</td>\n",
       "      <td>1.000000</td>\n",
       "      <td>0.812634</td>\n",
       "      <td>0.025259</td>\n",
       "      <td>-0.232731</td>\n",
       "      <td>0.026091</td>\n",
       "      <td>0.016929</td>\n",
       "    </tr>\n",
       "    <tr>\n",
       "      <th>curvature</th>\n",
       "      <td>-0.003980</td>\n",
       "      <td>-0.895673</td>\n",
       "      <td>0.812634</td>\n",
       "      <td>1.000000</td>\n",
       "      <td>0.082498</td>\n",
       "      <td>-0.272230</td>\n",
       "      <td>0.020138</td>\n",
       "      <td>0.002217</td>\n",
       "    </tr>\n",
       "    <tr>\n",
       "      <th>elevation</th>\n",
       "      <td>-0.051151</td>\n",
       "      <td>-0.105481</td>\n",
       "      <td>0.025259</td>\n",
       "      <td>0.082498</td>\n",
       "      <td>1.000000</td>\n",
       "      <td>-0.173340</td>\n",
       "      <td>0.169907</td>\n",
       "      <td>-0.112668</td>\n",
       "    </tr>\n",
       "    <tr>\n",
       "      <th>morphology</th>\n",
       "      <td>0.087932</td>\n",
       "      <td>0.234606</td>\n",
       "      <td>-0.232731</td>\n",
       "      <td>-0.272230</td>\n",
       "      <td>-0.173340</td>\n",
       "      <td>1.000000</td>\n",
       "      <td>-0.009493</td>\n",
       "      <td>0.035092</td>\n",
       "    </tr>\n",
       "    <tr>\n",
       "      <th>slope</th>\n",
       "      <td>-0.051647</td>\n",
       "      <td>-0.010547</td>\n",
       "      <td>0.026091</td>\n",
       "      <td>0.020138</td>\n",
       "      <td>0.169907</td>\n",
       "      <td>-0.009493</td>\n",
       "      <td>1.000000</td>\n",
       "      <td>0.021631</td>\n",
       "    </tr>\n",
       "    <tr>\n",
       "      <th>tree-cover</th>\n",
       "      <td>0.085936</td>\n",
       "      <td>0.009505</td>\n",
       "      <td>0.016929</td>\n",
       "      <td>0.002217</td>\n",
       "      <td>-0.112668</td>\n",
       "      <td>0.035092</td>\n",
       "      <td>0.021631</td>\n",
       "      <td>1.000000</td>\n",
       "    </tr>\n",
       "  </tbody>\n",
       "</table>\n",
       "</div>"
      ],
      "text/plain": [
       "                  aspect  curvature-plan  curvature-prof  curvature  \\\n",
       "aspect          1.000000        0.004640       -0.001803  -0.003980   \n",
       "curvature-plan  0.004640        1.000000       -0.469243  -0.895673   \n",
       "curvature-prof -0.001803       -0.469243        1.000000   0.812634   \n",
       "curvature      -0.003980       -0.895673        0.812634   1.000000   \n",
       "elevation      -0.051151       -0.105481        0.025259   0.082498   \n",
       "morphology      0.087932        0.234606       -0.232731  -0.272230   \n",
       "slope          -0.051647       -0.010547        0.026091   0.020138   \n",
       "tree-cover      0.085936        0.009505        0.016929   0.002217   \n",
       "\n",
       "                elevation  morphology     slope  tree-cover  \n",
       "aspect          -0.051151    0.087932 -0.051647    0.085936  \n",
       "curvature-plan  -0.105481    0.234606 -0.010547    0.009505  \n",
       "curvature-prof   0.025259   -0.232731  0.026091    0.016929  \n",
       "curvature        0.082498   -0.272230  0.020138    0.002217  \n",
       "elevation        1.000000   -0.173340  0.169907   -0.112668  \n",
       "morphology      -0.173340    1.000000 -0.009493    0.035092  \n",
       "slope            0.169907   -0.009493  1.000000    0.021631  \n",
       "tree-cover      -0.112668    0.035092  0.021631    1.000000  "
      ]
     },
     "execution_count": 58,
     "metadata": {},
     "output_type": "execute_result"
    }
   ],
   "source": [
    "corr"
   ]
  },
  {
   "cell_type": "code",
   "execution_count": 10,
   "metadata": {},
   "outputs": [
    {
     "data": {
      "image/png": "[encoded data removed]",
      "text/plain": [
       "<Figure size 576x396 with 1 Axes>"
      ]
     },
     "metadata": {},
     "output_type": "display_data"
    },
    {
     "data": {
      "text/plain": [
       "RadialVisualizer(alpha=0.3,\n",
       "                 ax=<AxesSubplot:title={'center':'RadViz for 8 Features'}>,\n",
       "                 classes=[0, 1])"
      ]
     },
     "execution_count": 10,
     "metadata": {},
     "output_type": "execute_result"
    }
   ],
   "source": [
    "from yellowbrick.features.radviz import radviz\n",
    "\n",
    "radviz(pd.DataFrame(X_, columns=features[:-1]), y, classes=[0, 1], alpha=0.3)"
   ]
  },
  {
   "cell_type": "code",
   "execution_count": 20,
   "metadata": {},
   "outputs": [],
   "source": [
    "from sklearn import manifold\n",
    "from sklearn.metrics import euclidean_distances\n",
    "import matplotlib.pyplot as plt\n"
   ]
  },
  {
   "cell_type": "code",
   "execution_count": 24,
   "metadata": {},
   "outputs": [],
   "source": [
    "inds = np.random.randint(0, len(y), size=1000)\n",
    "y_=y[inds]"
   ]
  },
  {
   "cell_type": "code",
   "execution_count": 15,
   "metadata": {},
   "outputs": [],
   "source": [
    "similarities = euclidean_distances(X_[inds,:-1])"
   ]
  },
  {
   "cell_type": "code",
   "execution_count": 18,
   "metadata": {},
   "outputs": [],
   "source": [
    "seed=42\n",
    "mds = manifold.MDS(n_components=2, max_iter=3000, eps=1e-9, random_state=seed,\n",
    "                   dissimilarity=\"precomputed\", n_jobs=-1)\n",
    "pos = mds.fit(similarities).embedding_\n",
    "\n",
    "nmds = manifold.MDS(n_components=2, metric=False, max_iter=3000, eps=1e-12,\n",
    "                    dissimilarity=\"precomputed\", random_state=seed, n_jobs=-1,\n",
    "                    n_init=1)\n",
    "npos = nmds.fit_transform(similarities, init=pos)"
   ]
  },
  {
   "cell_type": "code",
   "execution_count": 26,
   "metadata": {},
   "outputs": [
    {
     "data": {
      "text/plain": [
       "<matplotlib.legend.Legend at 0x1d64aae12c8>"
      ]
     },
     "execution_count": 26,
     "metadata": {},
     "output_type": "execute_result"
    },
    {
     "data": {
      "image/png": "[encoded data removed]",
      "text/plain": [
       "<Figure size 576x396 with 1 Axes>"
      ]
     },
     "metadata": {},
     "output_type": "display_data"
    }
   ],
   "source": [
    "s = 100\n",
    "plt.scatter(npos[y_==0, 0], npos[y_==0, 1], color='darkorange', s=s, lw=0, label='NMDS')\n",
    "plt.scatter(npos[y_==1, 0], npos[y_==1, 1], color='blue', s=s, lw=0, label='NMDS')\n",
    "plt.legend(scatterpoints=1, loc='best', shadow=False)"
   ]
  },
  {
   "cell_type": "code",
   "execution_count": 28,
   "metadata": {},
   "outputs": [
    {
     "data": {
      "text/plain": [
       "<matplotlib.legend.Legend at 0x1d64ac4d948>"
      ]
     },
     "execution_count": 28,
     "metadata": {},
     "output_type": "execute_result"
    },
    {
     "data": {
      "image/png": "[encoded data removed]",
      "text/plain": [
       "<Figure size 576x396 with 1 Axes>"
      ]
     },
     "metadata": {},
     "output_type": "display_data"
    }
   ],
   "source": [
    "s = 100\n",
    "plt.scatter(pos[y_==0, 0], pos[y_==0, 1], color='darkorange', s=s, lw=0, label='MDS')\n",
    "plt.scatter(pos[y_==1, 0], pos[y_==1, 1], color='blue', s=s, lw=0, label='MDS')\n",
    "plt.legend(scatterpoints=1, loc='best', shadow=False)"
   ]
  },
  {
   "cell_type": "code",
   "execution_count": null,
   "metadata": {},
   "outputs": [],
   "source": []
  }
 ],
 "metadata": {
  "kernelspec": {
   "display_name": "Python 3",
   "language": "python",
   "name": "python3"
  },
  "language_info": {
   "codemirror_mode": {
    "name": "ipython",
    "version": 3
   },
   "file_extension": ".py",
   "mimetype": "text/x-python",
   "name": "python",
   "nbconvert_exporter": "python",
   "pygments_lexer": "ipython3",
   "version": "3.7.9"
  }
 },
 "nbformat": 4,
 "nbformat_minor": 4
}
